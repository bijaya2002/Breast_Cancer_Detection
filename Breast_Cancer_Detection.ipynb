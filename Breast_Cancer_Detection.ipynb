{
  "metadata": {
    "kernelspec": {
      "language": "python",
      "display_name": "Python 3",
      "name": "python3"
    },
    "language_info": {
      "pygments_lexer": "ipython3",
      "nbconvert_exporter": "python",
      "version": "3.6.4",
      "file_extension": ".py",
      "codemirror_mode": {
        "name": "ipython",
        "version": 3
      },
      "name": "python",
      "mimetype": "text/x-python"
    },
    "colab": {
      "provenance": []
    }
  },
  "nbformat_minor": 0,
  "nbformat": 4,
  "cells": [
    {
      "cell_type": "markdown",
      "source": [
        "#Breast Cancer Detection\n"
      ],
      "metadata": {
        "id": "p7MlONHaUCtu"
      }
    },
    {
      "cell_type": "markdown",
      "source": [
        " Breast cancer is the most common form of cancer in women, and invasive ductal carcinoma (IDC) is the most common form of breast cancer. Accurately identifying and categorizing breast cancer subtypes is an important clinical task, and automated methods can be used to save time and reduce error.\n",
        "\n",
        "Detecting breast cancer early significantly improves treatment outcomes and survival rates. Detecting breast cancer involves utilizing various factors, including mass shape, abnormality density, and mammography screenings. Mammography is a widely used screening tool for breast cancer detection, especially in asymptomatic individuals.\n",
        "\n",
        "1. Mass Shape: One important factor in breast cancer detection is the shape of a\n",
        "mass or lump found during examination or imaging. Cancerous masses often have irregular shapes, while benign masses tend to have more regular shapes. Irregular or asymmetrical shapes may indicate the presence of cancer and require further evaluation.\n",
        "\n",
        "2. Abnormality Density: Another factor is the density of abnormalities detected in mammograms. Dense breast tissue can make it more challenging to identify potential abnormalities, as it can mask or obscure smaller lesions. Dense breast tissue itself is also considered a risk factor for developing breast cancer.\n",
        "\n",
        "3. Mammography Screenings: Mammography is an imaging technique that uses low-dose X-rays to capture detailed images of the breast tissue. It can help identify potential abnormalities or changes in breast tissue, even before they can be felt during a physical examination. Mammograms are recommended as a regular screening tool for women, typically starting at a certain age or based on individual risk factors.\n",
        "\n",
        "\n",
        "During a mammogram, the breast is compressed between two plates, and X-ray images are taken from different angles. These images are then examined by radiologists, who look for any suspicious masses, calcifications, or other signs of abnormalities.\n",
        "\n",
        "It's important to note that while mammography is a valuable screening method, it does have limitations. In some cases, additional imaging tests such as ultrasound or magnetic resonance imaging (MRI) may be recommended, especially for individuals with dense breast tissue or those at higher risk."
      ],
      "metadata": {
        "id": "UHsL4fTsUC2-"
      }
    },
    {
      "cell_type": "markdown",
      "source": [
        "\n",
        "\n",
        "1. Data Collection: Gather a dataset of breast cancer images. Obtain images with known labels indicating whether they depict cancerous or non-cancerous cases. Ensure a diverse and representative dataset.\n",
        "\n",
        "2. Data Preprocessing: Prepare the image data for the machine learning model. This step may involve resizing the images, normalizing pixel values, and applying techniques like cropping or rotation to enhance the quality of the data.\n",
        "\n",
        "3. Data Split: Divide the dataset into training, validation, and testing sets. The training set is used to train the model, the validation set helps tune model parameters, and the testing set assesses the model's performance.\n",
        "\n",
        "4. Model Selection: Choose an appropriate machine learning algorithm for your task. Common choices for image classification include Convolutional Neural Networks (CNNs) due to their effectiveness in extracting features from images.\n",
        "\n",
        "5. Model Architecture: Design the architecture of the CNN model. Specify the number of layers, types of layers (convolutional, pooling, fully connected), activation functions, and other parameters. Experiment with different architectures to find the optimal configuration.\n",
        "\n",
        "6. Model Training: Train the model using the training dataset. The model learns to identify patterns and features associated with breast cancer from the provided images. This process involves feeding the images into the model, computing loss, and optimizing the model's parameters through backpropagation.\n",
        "\n",
        "7. Model Evaluation: Evaluate the trained model using the validation set. Measure metrics such as accuracy, precision, recall, and F1 score to assess the model's performance. Adjust the model and hyperparameters if necessary.\n",
        "\n",
        "8. Model Testing: Assess the final model's performance on the testing set, which contains unseen data. This step provides an estimation of the model's generalization capability and real-world performance.\n",
        "\n",
        "9. Fine-tuning and Optimization: Refine the model by adjusting hyperparameters, architecture, or incorporating techniques like regularization or data augmentation. Iterate on the training process to improve the model's accuracy and robustness.\n",
        "\n",
        "10. Deployment: Once satisfied with the model's performance, deploy it in a production environment. Create an interface or API that takes input images and returns predictions. Continuously monitor the model's performance and update it as needed."
      ],
      "metadata": {
        "id": "yJONBKOmUC52"
      }
    },
    {
      "cell_type": "code",
      "source": [
        "import pandas as pd\n",
        "import numpy as np\n",
        "import cv2\n",
        "import PIL\n",
        "import matplotlib.pyplot as plt\n",
        "import plotly.express as px\n",
        "import seaborn as sns\n",
        "import glob\n",
        "import random\n",
        "import os\n",
        "from os import listdir\n",
        "random.seed(100)\n",
        "np.random.seed(100)"
      ],
      "metadata": {
        "execution": {
          "iopub.status.busy": "2023-02-22T15:53:07.379744Z",
          "iopub.execute_input": "2023-02-22T15:53:07.380554Z",
          "iopub.status.idle": "2023-02-22T15:53:09.811442Z",
          "shell.execute_reply.started": "2023-02-22T15:53:07.380456Z",
          "shell.execute_reply": "2023-02-22T15:53:09.809511Z"
        },
        "trusted": true,
        "id": "WX-BS5smT8Ve"
      },
      "execution_count": null,
      "outputs": []
    },
    {
      "cell_type": "markdown",
      "source": [
        "## Data Collection"
      ],
      "metadata": {
        "id": "vEKM3lwWUMS1"
      }
    },
    {
      "cell_type": "code",
      "source": [
        "dicom_data = pd.read_csv('/content/drive/MyDrive/Breast Cancer Detection/csv/dicom_info.csv')"
      ],
      "metadata": {
        "execution": {
          "iopub.status.busy": "2023-02-22T15:53:09.814576Z",
          "iopub.execute_input": "2023-02-22T15:53:09.816039Z",
          "iopub.status.idle": "2023-02-22T15:53:10.216443Z",
          "shell.execute_reply.started": "2023-02-22T15:53:09.815974Z",
          "shell.execute_reply": "2023-02-22T15:53:10.215092Z"
        },
        "trusted": true,
        "id": "frao0FZjT8Vf"
      },
      "execution_count": null,
      "outputs": []
    },
    {
      "cell_type": "code",
      "source": [
        "dicom_data.head()"
      ],
      "metadata": {
        "execution": {
          "iopub.status.busy": "2023-02-22T15:53:10.218001Z",
          "iopub.execute_input": "2023-02-22T15:53:10.218684Z",
          "iopub.status.idle": "2023-02-22T15:53:10.270784Z",
          "shell.execute_reply.started": "2023-02-22T15:53:10.218646Z",
          "shell.execute_reply": "2023-02-22T15:53:10.26888Z"
        },
        "trusted": true,
        "id": "zbnU-5_5T8Vf",
        "colab": {
          "base_uri": "https://localhost:8080/",
          "height": 386
        },
        "outputId": "5e1228a3-4243-46aa-fa1b-814121779dc8"
      },
      "execution_count": null,
      "outputs": [
        {
          "output_type": "execute_result",
          "data": {
            "text/plain": [
              "                                           file_path  \\\n",
              "0  CBIS-DDSM/dicom/1.3.6.1.4.1.9590.100.1.2.12930...   \n",
              "1  CBIS-DDSM/dicom/1.3.6.1.4.1.9590.100.1.2.24838...   \n",
              "2  CBIS-DDSM/dicom/1.3.6.1.4.1.9590.100.1.2.26721...   \n",
              "3  CBIS-DDSM/dicom/1.3.6.1.4.1.9590.100.1.2.38118...   \n",
              "4  CBIS-DDSM/dicom/1.3.6.1.4.1.9590.100.1.2.38118...   \n",
              "\n",
              "                                          image_path  AccessionNumber  \\\n",
              "0  CBIS-DDSM/jpeg/1.3.6.1.4.1.9590.100.1.2.129308...              NaN   \n",
              "1  CBIS-DDSM/jpeg/1.3.6.1.4.1.9590.100.1.2.248386...              NaN   \n",
              "2  CBIS-DDSM/jpeg/1.3.6.1.4.1.9590.100.1.2.267213...              NaN   \n",
              "3  CBIS-DDSM/jpeg/1.3.6.1.4.1.9590.100.1.2.381187...              NaN   \n",
              "4  CBIS-DDSM/jpeg/1.3.6.1.4.1.9590.100.1.2.381187...              NaN   \n",
              "\n",
              "   BitsAllocated  BitsStored BodyPartExamined  Columns  ContentDate  \\\n",
              "0             16          16           BREAST      351     20160426   \n",
              "1             16          16           BREAST     3526     20160426   \n",
              "2             16          16           BREAST     1546     20160503   \n",
              "3             16          16           BREAST       97     20160503   \n",
              "4              8           8      Left Breast     3104     20160503   \n",
              "\n",
              "   ContentTime ConversionType  ...  \\\n",
              "0   131732.685            WSD  ...   \n",
              "1   143829.101            WSD  ...   \n",
              "2   111956.298            WSD  ...   \n",
              "3   115347.770            WSD  ...   \n",
              "4   115347.770            WSD  ...   \n",
              "\n",
              "   SecondaryCaptureDeviceManufacturerModelName      SeriesDescription  \\\n",
              "0                                       MATLAB         cropped images   \n",
              "1                                       MATLAB  full mammogram images   \n",
              "2                                       MATLAB  full mammogram images   \n",
              "3                                       MATLAB         cropped images   \n",
              "4                                       MATLAB                    NaN   \n",
              "\n",
              "                                   SeriesInstanceUID SeriesNumber  \\\n",
              "0  1.3.6.1.4.1.9590.100.1.2.129308726812851964007...            1   \n",
              "1  1.3.6.1.4.1.9590.100.1.2.248386742010678582309...            1   \n",
              "2  1.3.6.1.4.1.9590.100.1.2.267213171011171858918...            1   \n",
              "3  1.3.6.1.4.1.9590.100.1.2.381187369611524586537...            1   \n",
              "4  1.3.6.1.4.1.9590.100.1.2.381187369611524586537...            1   \n",
              "\n",
              "  SmallestImagePixelValue  SpecificCharacterSet   StudyDate StudyID  \\\n",
              "0                   23078            ISO_IR 100  20160720.0    DDSM   \n",
              "1                       0            ISO_IR 100  20160720.0    DDSM   \n",
              "2                       0            ISO_IR 100  20160807.0    DDSM   \n",
              "3                   32298            ISO_IR 100  20170829.0    DDSM   \n",
              "4                       0            ISO_IR 100         NaN    DDSM   \n",
              "\n",
              "                                    StudyInstanceUID  StudyTime  \n",
              "0  1.3.6.1.4.1.9590.100.1.2.271867287611061855725...   214951.0  \n",
              "1  1.3.6.1.4.1.9590.100.1.2.161516517311681906612...   193426.0  \n",
              "2  1.3.6.1.4.1.9590.100.1.2.291043622711253836701...   161814.0  \n",
              "3  1.3.6.1.4.1.9590.100.1.2.335006093711888937440...   180109.0  \n",
              "4  1.3.6.1.4.1.9590.100.1.2.335006093711888937440...        NaN  \n",
              "\n",
              "[5 rows x 38 columns]"
            ],
            "text/html": [
              "\n",
              "  <div id=\"df-810af70d-e4fe-4809-91ef-845e7e830421\">\n",
              "    <div class=\"colab-df-container\">\n",
              "      <div>\n",
              "<style scoped>\n",
              "    .dataframe tbody tr th:only-of-type {\n",
              "        vertical-align: middle;\n",
              "    }\n",
              "\n",
              "    .dataframe tbody tr th {\n",
              "        vertical-align: top;\n",
              "    }\n",
              "\n",
              "    .dataframe thead th {\n",
              "        text-align: right;\n",
              "    }\n",
              "</style>\n",
              "<table border=\"1\" class=\"dataframe\">\n",
              "  <thead>\n",
              "    <tr style=\"text-align: right;\">\n",
              "      <th></th>\n",
              "      <th>file_path</th>\n",
              "      <th>image_path</th>\n",
              "      <th>AccessionNumber</th>\n",
              "      <th>BitsAllocated</th>\n",
              "      <th>BitsStored</th>\n",
              "      <th>BodyPartExamined</th>\n",
              "      <th>Columns</th>\n",
              "      <th>ContentDate</th>\n",
              "      <th>ContentTime</th>\n",
              "      <th>ConversionType</th>\n",
              "      <th>...</th>\n",
              "      <th>SecondaryCaptureDeviceManufacturerModelName</th>\n",
              "      <th>SeriesDescription</th>\n",
              "      <th>SeriesInstanceUID</th>\n",
              "      <th>SeriesNumber</th>\n",
              "      <th>SmallestImagePixelValue</th>\n",
              "      <th>SpecificCharacterSet</th>\n",
              "      <th>StudyDate</th>\n",
              "      <th>StudyID</th>\n",
              "      <th>StudyInstanceUID</th>\n",
              "      <th>StudyTime</th>\n",
              "    </tr>\n",
              "  </thead>\n",
              "  <tbody>\n",
              "    <tr>\n",
              "      <th>0</th>\n",
              "      <td>CBIS-DDSM/dicom/1.3.6.1.4.1.9590.100.1.2.12930...</td>\n",
              "      <td>CBIS-DDSM/jpeg/1.3.6.1.4.1.9590.100.1.2.129308...</td>\n",
              "      <td>NaN</td>\n",
              "      <td>16</td>\n",
              "      <td>16</td>\n",
              "      <td>BREAST</td>\n",
              "      <td>351</td>\n",
              "      <td>20160426</td>\n",
              "      <td>131732.685</td>\n",
              "      <td>WSD</td>\n",
              "      <td>...</td>\n",
              "      <td>MATLAB</td>\n",
              "      <td>cropped images</td>\n",
              "      <td>1.3.6.1.4.1.9590.100.1.2.129308726812851964007...</td>\n",
              "      <td>1</td>\n",
              "      <td>23078</td>\n",
              "      <td>ISO_IR 100</td>\n",
              "      <td>20160720.0</td>\n",
              "      <td>DDSM</td>\n",
              "      <td>1.3.6.1.4.1.9590.100.1.2.271867287611061855725...</td>\n",
              "      <td>214951.0</td>\n",
              "    </tr>\n",
              "    <tr>\n",
              "      <th>1</th>\n",
              "      <td>CBIS-DDSM/dicom/1.3.6.1.4.1.9590.100.1.2.24838...</td>\n",
              "      <td>CBIS-DDSM/jpeg/1.3.6.1.4.1.9590.100.1.2.248386...</td>\n",
              "      <td>NaN</td>\n",
              "      <td>16</td>\n",
              "      <td>16</td>\n",
              "      <td>BREAST</td>\n",
              "      <td>3526</td>\n",
              "      <td>20160426</td>\n",
              "      <td>143829.101</td>\n",
              "      <td>WSD</td>\n",
              "      <td>...</td>\n",
              "      <td>MATLAB</td>\n",
              "      <td>full mammogram images</td>\n",
              "      <td>1.3.6.1.4.1.9590.100.1.2.248386742010678582309...</td>\n",
              "      <td>1</td>\n",
              "      <td>0</td>\n",
              "      <td>ISO_IR 100</td>\n",
              "      <td>20160720.0</td>\n",
              "      <td>DDSM</td>\n",
              "      <td>1.3.6.1.4.1.9590.100.1.2.161516517311681906612...</td>\n",
              "      <td>193426.0</td>\n",
              "    </tr>\n",
              "    <tr>\n",
              "      <th>2</th>\n",
              "      <td>CBIS-DDSM/dicom/1.3.6.1.4.1.9590.100.1.2.26721...</td>\n",
              "      <td>CBIS-DDSM/jpeg/1.3.6.1.4.1.9590.100.1.2.267213...</td>\n",
              "      <td>NaN</td>\n",
              "      <td>16</td>\n",
              "      <td>16</td>\n",
              "      <td>BREAST</td>\n",
              "      <td>1546</td>\n",
              "      <td>20160503</td>\n",
              "      <td>111956.298</td>\n",
              "      <td>WSD</td>\n",
              "      <td>...</td>\n",
              "      <td>MATLAB</td>\n",
              "      <td>full mammogram images</td>\n",
              "      <td>1.3.6.1.4.1.9590.100.1.2.267213171011171858918...</td>\n",
              "      <td>1</td>\n",
              "      <td>0</td>\n",
              "      <td>ISO_IR 100</td>\n",
              "      <td>20160807.0</td>\n",
              "      <td>DDSM</td>\n",
              "      <td>1.3.6.1.4.1.9590.100.1.2.291043622711253836701...</td>\n",
              "      <td>161814.0</td>\n",
              "    </tr>\n",
              "    <tr>\n",
              "      <th>3</th>\n",
              "      <td>CBIS-DDSM/dicom/1.3.6.1.4.1.9590.100.1.2.38118...</td>\n",
              "      <td>CBIS-DDSM/jpeg/1.3.6.1.4.1.9590.100.1.2.381187...</td>\n",
              "      <td>NaN</td>\n",
              "      <td>16</td>\n",
              "      <td>16</td>\n",
              "      <td>BREAST</td>\n",
              "      <td>97</td>\n",
              "      <td>20160503</td>\n",
              "      <td>115347.770</td>\n",
              "      <td>WSD</td>\n",
              "      <td>...</td>\n",
              "      <td>MATLAB</td>\n",
              "      <td>cropped images</td>\n",
              "      <td>1.3.6.1.4.1.9590.100.1.2.381187369611524586537...</td>\n",
              "      <td>1</td>\n",
              "      <td>32298</td>\n",
              "      <td>ISO_IR 100</td>\n",
              "      <td>20170829.0</td>\n",
              "      <td>DDSM</td>\n",
              "      <td>1.3.6.1.4.1.9590.100.1.2.335006093711888937440...</td>\n",
              "      <td>180109.0</td>\n",
              "    </tr>\n",
              "    <tr>\n",
              "      <th>4</th>\n",
              "      <td>CBIS-DDSM/dicom/1.3.6.1.4.1.9590.100.1.2.38118...</td>\n",
              "      <td>CBIS-DDSM/jpeg/1.3.6.1.4.1.9590.100.1.2.381187...</td>\n",
              "      <td>NaN</td>\n",
              "      <td>8</td>\n",
              "      <td>8</td>\n",
              "      <td>Left Breast</td>\n",
              "      <td>3104</td>\n",
              "      <td>20160503</td>\n",
              "      <td>115347.770</td>\n",
              "      <td>WSD</td>\n",
              "      <td>...</td>\n",
              "      <td>MATLAB</td>\n",
              "      <td>NaN</td>\n",
              "      <td>1.3.6.1.4.1.9590.100.1.2.381187369611524586537...</td>\n",
              "      <td>1</td>\n",
              "      <td>0</td>\n",
              "      <td>ISO_IR 100</td>\n",
              "      <td>NaN</td>\n",
              "      <td>DDSM</td>\n",
              "      <td>1.3.6.1.4.1.9590.100.1.2.335006093711888937440...</td>\n",
              "      <td>NaN</td>\n",
              "    </tr>\n",
              "  </tbody>\n",
              "</table>\n",
              "<p>5 rows × 38 columns</p>\n",
              "</div>\n",
              "      <button class=\"colab-df-convert\" onclick=\"convertToInteractive('df-810af70d-e4fe-4809-91ef-845e7e830421')\"\n",
              "              title=\"Convert this dataframe to an interactive table.\"\n",
              "              style=\"display:none;\">\n",
              "        \n",
              "  <svg xmlns=\"http://www.w3.org/2000/svg\" height=\"24px\"viewBox=\"0 0 24 24\"\n",
              "       width=\"24px\">\n",
              "    <path d=\"M0 0h24v24H0V0z\" fill=\"none\"/>\n",
              "    <path d=\"M18.56 5.44l.94 2.06.94-2.06 2.06-.94-2.06-.94-.94-2.06-.94 2.06-2.06.94zm-11 1L8.5 8.5l.94-2.06 2.06-.94-2.06-.94L8.5 2.5l-.94 2.06-2.06.94zm10 10l.94 2.06.94-2.06 2.06-.94-2.06-.94-.94-2.06-.94 2.06-2.06.94z\"/><path d=\"M17.41 7.96l-1.37-1.37c-.4-.4-.92-.59-1.43-.59-.52 0-1.04.2-1.43.59L10.3 9.45l-7.72 7.72c-.78.78-.78 2.05 0 2.83L4 21.41c.39.39.9.59 1.41.59.51 0 1.02-.2 1.41-.59l7.78-7.78 2.81-2.81c.8-.78.8-2.07 0-2.86zM5.41 20L4 18.59l7.72-7.72 1.47 1.35L5.41 20z\"/>\n",
              "  </svg>\n",
              "      </button>\n",
              "      \n",
              "  <style>\n",
              "    .colab-df-container {\n",
              "      display:flex;\n",
              "      flex-wrap:wrap;\n",
              "      gap: 12px;\n",
              "    }\n",
              "\n",
              "    .colab-df-convert {\n",
              "      background-color: #E8F0FE;\n",
              "      border: none;\n",
              "      border-radius: 50%;\n",
              "      cursor: pointer;\n",
              "      display: none;\n",
              "      fill: #1967D2;\n",
              "      height: 32px;\n",
              "      padding: 0 0 0 0;\n",
              "      width: 32px;\n",
              "    }\n",
              "\n",
              "    .colab-df-convert:hover {\n",
              "      background-color: #E2EBFA;\n",
              "      box-shadow: 0px 1px 2px rgba(60, 64, 67, 0.3), 0px 1px 3px 1px rgba(60, 64, 67, 0.15);\n",
              "      fill: #174EA6;\n",
              "    }\n",
              "\n",
              "    [theme=dark] .colab-df-convert {\n",
              "      background-color: #3B4455;\n",
              "      fill: #D2E3FC;\n",
              "    }\n",
              "\n",
              "    [theme=dark] .colab-df-convert:hover {\n",
              "      background-color: #434B5C;\n",
              "      box-shadow: 0px 1px 3px 1px rgba(0, 0, 0, 0.15);\n",
              "      filter: drop-shadow(0px 1px 2px rgba(0, 0, 0, 0.3));\n",
              "      fill: #FFFFFF;\n",
              "    }\n",
              "  </style>\n",
              "\n",
              "      <script>\n",
              "        const buttonEl =\n",
              "          document.querySelector('#df-810af70d-e4fe-4809-91ef-845e7e830421 button.colab-df-convert');\n",
              "        buttonEl.style.display =\n",
              "          google.colab.kernel.accessAllowed ? 'block' : 'none';\n",
              "\n",
              "        async function convertToInteractive(key) {\n",
              "          const element = document.querySelector('#df-810af70d-e4fe-4809-91ef-845e7e830421');\n",
              "          const dataTable =\n",
              "            await google.colab.kernel.invokeFunction('convertToInteractive',\n",
              "                                                     [key], {});\n",
              "          if (!dataTable) return;\n",
              "\n",
              "          const docLinkHtml = 'Like what you see? Visit the ' +\n",
              "            '<a target=\"_blank\" href=https://colab.research.google.com/notebooks/data_table.ipynb>data table notebook</a>'\n",
              "            + ' to learn more about interactive tables.';\n",
              "          element.innerHTML = '';\n",
              "          dataTable['output_type'] = 'display_data';\n",
              "          await google.colab.output.renderOutput(dataTable, element);\n",
              "          const docLink = document.createElement('div');\n",
              "          docLink.innerHTML = docLinkHtml;\n",
              "          element.appendChild(docLink);\n",
              "        }\n",
              "      </script>\n",
              "    </div>\n",
              "  </div>\n",
              "  "
            ]
          },
          "metadata": {},
          "execution_count": 7
        }
      ]
    },
    {
      "cell_type": "code",
      "source": [
        "dicom_data.info()"
      ],
      "metadata": {
        "execution": {
          "iopub.status.busy": "2023-02-22T15:53:10.272929Z",
          "iopub.execute_input": "2023-02-22T15:53:10.273261Z",
          "iopub.status.idle": "2023-02-22T15:53:10.316711Z",
          "shell.execute_reply.started": "2023-02-22T15:53:10.273233Z",
          "shell.execute_reply": "2023-02-22T15:53:10.315367Z"
        },
        "trusted": true,
        "id": "pZPWrX_eT8Vf",
        "colab": {
          "base_uri": "https://localhost:8080/"
        },
        "outputId": "7053a458-e38f-4d48-b468-cb54e2b6adc1"
      },
      "execution_count": null,
      "outputs": [
        {
          "output_type": "stream",
          "name": "stdout",
          "text": [
            "<class 'pandas.core.frame.DataFrame'>\n",
            "RangeIndex: 10237 entries, 0 to 10236\n",
            "Data columns (total 38 columns):\n",
            " #   Column                                       Non-Null Count  Dtype  \n",
            "---  ------                                       --------------  -----  \n",
            " 0   file_path                                    10237 non-null  object \n",
            " 1   image_path                                   10237 non-null  object \n",
            " 2   AccessionNumber                              0 non-null      float64\n",
            " 3   BitsAllocated                                10237 non-null  int64  \n",
            " 4   BitsStored                                   10237 non-null  int64  \n",
            " 5   BodyPartExamined                             10237 non-null  object \n",
            " 6   Columns                                      10237 non-null  int64  \n",
            " 7   ContentDate                                  10237 non-null  int64  \n",
            " 8   ContentTime                                  10237 non-null  float64\n",
            " 9   ConversionType                               10237 non-null  object \n",
            " 10  HighBit                                      10237 non-null  int64  \n",
            " 11  InstanceNumber                               10237 non-null  int64  \n",
            " 12  LargestImagePixelValue                       10237 non-null  int64  \n",
            " 13  Laterality                                   9671 non-null   object \n",
            " 14  Modality                                     10237 non-null  object \n",
            " 15  PatientBirthDate                             0 non-null      float64\n",
            " 16  PatientID                                    10237 non-null  object \n",
            " 17  PatientName                                  10237 non-null  object \n",
            " 18  PatientOrientation                           10237 non-null  object \n",
            " 19  PatientSex                                   0 non-null      float64\n",
            " 20  PhotometricInterpretation                    10237 non-null  object \n",
            " 21  PixelRepresentation                          10237 non-null  int64  \n",
            " 22  ReferringPhysicianName                       0 non-null      float64\n",
            " 23  Rows                                         10237 non-null  int64  \n",
            " 24  SOPClassUID                                  10237 non-null  object \n",
            " 25  SOPInstanceUID                               10237 non-null  object \n",
            " 26  SamplesPerPixel                              10237 non-null  int64  \n",
            " 27  SecondaryCaptureDeviceManufacturer           10237 non-null  object \n",
            " 28  SecondaryCaptureDeviceManufacturerModelName  10237 non-null  object \n",
            " 29  SeriesDescription                            9671 non-null   object \n",
            " 30  SeriesInstanceUID                            10237 non-null  object \n",
            " 31  SeriesNumber                                 10237 non-null  int64  \n",
            " 32  SmallestImagePixelValue                      10237 non-null  int64  \n",
            " 33  SpecificCharacterSet                         10237 non-null  object \n",
            " 34  StudyDate                                    9671 non-null   float64\n",
            " 35  StudyID                                      10237 non-null  object \n",
            " 36  StudyInstanceUID                             10237 non-null  object \n",
            " 37  StudyTime                                    9671 non-null   float64\n",
            "dtypes: float64(7), int64(12), object(19)\n",
            "memory usage: 3.0+ MB\n"
          ]
        }
      ]
    },
    {
      "cell_type": "code",
      "source": [
        "cropped_images=dicom_data[dicom_data.SeriesDescription == 'cropped images'].image_path\n",
        "cropped_images.head()"
      ],
      "metadata": {
        "execution": {
          "iopub.status.busy": "2023-02-22T15:53:10.318252Z",
          "iopub.execute_input": "2023-02-22T15:53:10.318729Z",
          "iopub.status.idle": "2023-02-22T15:53:10.332477Z",
          "shell.execute_reply.started": "2023-02-22T15:53:10.318686Z",
          "shell.execute_reply": "2023-02-22T15:53:10.331293Z"
        },
        "trusted": true,
        "id": "3jAFE4xWT8Vf",
        "colab": {
          "base_uri": "https://localhost:8080/"
        },
        "outputId": "75e01605-8f1e-4fcd-a8a5-7218afb0bcd8"
      },
      "execution_count": null,
      "outputs": [
        {
          "output_type": "execute_result",
          "data": {
            "text/plain": [
              "0     CBIS-DDSM/jpeg/1.3.6.1.4.1.9590.100.1.2.129308...\n",
              "3     CBIS-DDSM/jpeg/1.3.6.1.4.1.9590.100.1.2.381187...\n",
              "6     CBIS-DDSM/jpeg/1.3.6.1.4.1.9590.100.1.2.153339...\n",
              "7     CBIS-DDSM/jpeg/1.3.6.1.4.1.9590.100.1.2.178994...\n",
              "10    CBIS-DDSM/jpeg/1.3.6.1.4.1.9590.100.1.2.411833...\n",
              "Name: image_path, dtype: object"
            ]
          },
          "metadata": {},
          "execution_count": 9
        }
      ]
    },
    {
      "cell_type": "code",
      "source": [
        "image_dir = \"/content/drive/MyDrive/Breast Cancer Detection/jpeg\""
      ],
      "metadata": {
        "execution": {
          "iopub.status.busy": "2023-02-22T16:05:56.06804Z",
          "iopub.execute_input": "2023-02-22T16:05:56.06848Z",
          "iopub.status.idle": "2023-02-22T16:05:56.073431Z",
          "shell.execute_reply.started": "2023-02-22T16:05:56.068449Z",
          "shell.execute_reply": "2023-02-22T16:05:56.072539Z"
        },
        "trusted": true,
        "id": "Rtv8UfnqT8Vf"
      },
      "execution_count": null,
      "outputs": []
    },
    {
      "cell_type": "code",
      "source": [
        "cropped_images = cropped_images.apply(lambda x: x.replace('CBIS-DDSM/jpeg', image_dir))\n",
        "cropped_images.head()"
      ],
      "metadata": {
        "execution": {
          "iopub.status.busy": "2023-02-22T16:05:57.531108Z",
          "iopub.execute_input": "2023-02-22T16:05:57.531554Z",
          "iopub.status.idle": "2023-02-22T16:05:57.543936Z",
          "shell.execute_reply.started": "2023-02-22T16:05:57.531514Z",
          "shell.execute_reply": "2023-02-22T16:05:57.542671Z"
        },
        "trusted": true,
        "id": "_rADrXHiT8Vf",
        "colab": {
          "base_uri": "https://localhost:8080/"
        },
        "outputId": "ec4c5969-7e7c-4157-93e8-d663d8e41899"
      },
      "execution_count": null,
      "outputs": [
        {
          "output_type": "execute_result",
          "data": {
            "text/plain": [
              "0     /content/drive/MyDrive/Breast Cancer Detection...\n",
              "3     /content/drive/MyDrive/Breast Cancer Detection...\n",
              "6     /content/drive/MyDrive/Breast Cancer Detection...\n",
              "7     /content/drive/MyDrive/Breast Cancer Detection...\n",
              "10    /content/drive/MyDrive/Breast Cancer Detection...\n",
              "Name: image_path, dtype: object"
            ]
          },
          "metadata": {},
          "execution_count": 11
        }
      ]
    },
    {
      "cell_type": "code",
      "source": [
        "for file  in cropped_images[0:5]:\n",
        "    cropped_images_show = PIL.Image.open(file)\n",
        "    gray_img= cropped_images_show.convert(\"L\")\n",
        "    plt.imshow(gray_img, cmap='gray')"
      ],
      "metadata": {
        "execution": {
          "iopub.status.busy": "2023-02-22T16:06:00.028699Z",
          "iopub.execute_input": "2023-02-22T16:06:00.029197Z",
          "iopub.status.idle": "2023-02-22T16:06:00.763707Z",
          "shell.execute_reply.started": "2023-02-22T16:06:00.029158Z",
          "shell.execute_reply": "2023-02-22T16:06:00.762559Z"
        },
        "trusted": true,
        "id": "QzNZwTNoT8Vg",
        "colab": {
          "base_uri": "https://localhost:8080/",
          "height": 435
        },
        "outputId": "19ed937d-e47e-425b-d4de-8151beeb5801"
      },
      "execution_count": null,
      "outputs": [
        {
          "output_type": "display_data",
          "data": {
            "text/plain": [
              "<Figure size 640x480 with 1 Axes>"
            ],
            "image/png": "[encoded data removed]"
          },
          "metadata": {}
        }
      ]
    },
    {
      "cell_type": "code",
      "source": [
        "full_mammogram_images=dicom_data[dicom_data.SeriesDescription == 'full mammogram images'].image_path\n",
        "full_mammogram_images.head()"
      ],
      "metadata": {
        "execution": {
          "iopub.status.busy": "2023-02-22T16:06:02.978231Z",
          "iopub.execute_input": "2023-02-22T16:06:02.979Z",
          "iopub.status.idle": "2023-02-22T16:06:02.98925Z",
          "shell.execute_reply.started": "2023-02-22T16:06:02.978961Z",
          "shell.execute_reply": "2023-02-22T16:06:02.988419Z"
        },
        "trusted": true,
        "id": "y4lEVEhoT8Vg",
        "colab": {
          "base_uri": "https://localhost:8080/"
        },
        "outputId": "c8813f0c-6c37-46b3-f45c-40a84c78e12c"
      },
      "execution_count": null,
      "outputs": [
        {
          "output_type": "execute_result",
          "data": {
            "text/plain": [
              "1     CBIS-DDSM/jpeg/1.3.6.1.4.1.9590.100.1.2.248386...\n",
              "2     CBIS-DDSM/jpeg/1.3.6.1.4.1.9590.100.1.2.267213...\n",
              "11    CBIS-DDSM/jpeg/1.3.6.1.4.1.9590.100.1.2.210396...\n",
              "12    CBIS-DDSM/jpeg/1.3.6.1.4.1.9590.100.1.2.749566...\n",
              "15    CBIS-DDSM/jpeg/1.3.6.1.4.1.9590.100.1.2.987658...\n",
              "Name: image_path, dtype: object"
            ]
          },
          "metadata": {},
          "execution_count": 13
        }
      ]
    },
    {
      "cell_type": "code",
      "source": [
        "full_mammogram_images = full_mammogram_images.apply(lambda x: x.replace('CBIS-DDSM/jpeg', image_dir))\n",
        "full_mammogram_images[1]"
      ],
      "metadata": {
        "execution": {
          "iopub.status.busy": "2023-02-22T16:12:30.47501Z",
          "iopub.execute_input": "2023-02-22T16:12:30.475443Z",
          "iopub.status.idle": "2023-02-22T16:12:30.485513Z",
          "shell.execute_reply.started": "2023-02-22T16:12:30.475408Z",
          "shell.execute_reply": "2023-02-22T16:12:30.484502Z"
        },
        "trusted": true,
        "id": "ZgbATysYT8Vg",
        "colab": {
          "base_uri": "https://localhost:8080/",
          "height": 36
        },
        "outputId": "3fc1f73d-237e-435a-8af8-f94cf0dbddb0"
      },
      "execution_count": null,
      "outputs": [
        {
          "output_type": "execute_result",
          "data": {
            "text/plain": [
              "'/content/drive/MyDrive/Breast Cancer Detection/jpeg/1.3.6.1.4.1.9590.100.1.2.248386742010678582309005372213277814849/1-249.jpg'"
            ],
            "application/vnd.google.colaboratory.intrinsic+json": {
              "type": "string"
            }
          },
          "metadata": {},
          "execution_count": 14
        }
      ]
    },
    {
      "cell_type": "code",
      "source": [
        "for file  in full_mammogram_images[0:5]:\n",
        "    full_mammogram_images_show = PIL.Image.open(file)\n",
        "    gray_img= full_mammogram_images_show.convert(\"L\")\n",
        "    plt.imshow(gray_img, cmap='gray')"
      ],
      "metadata": {
        "execution": {
          "iopub.status.busy": "2023-02-22T16:06:07.717222Z",
          "iopub.execute_input": "2023-02-22T16:06:07.717697Z",
          "iopub.status.idle": "2023-02-22T16:06:13.975509Z",
          "shell.execute_reply.started": "2023-02-22T16:06:07.717661Z",
          "shell.execute_reply": "2023-02-22T16:06:13.974382Z"
        },
        "trusted": true,
        "id": "U65APPwRT8Vg",
        "colab": {
          "base_uri": "https://localhost:8080/",
          "height": 435
        },
        "outputId": "c2906726-681b-4318-d953-f0ac7e224016"
      },
      "execution_count": null,
      "outputs": [
        {
          "output_type": "display_data",
          "data": {
            "text/plain": [
              "<Figure size 640x480 with 1 Axes>"
            ],
            "image/png": "[encoded data removed]"
          },
          "metadata": {}
        }
      ]
    },
    {
      "cell_type": "code",
      "source": [
        "ROI_mask_images=dicom_data[dicom_data.SeriesDescription == 'ROI mask images'].image_path\n",
        "ROI_mask_images.head()"
      ],
      "metadata": {
        "execution": {
          "iopub.status.busy": "2023-02-22T16:06:18.861024Z",
          "iopub.execute_input": "2023-02-22T16:06:18.861472Z",
          "iopub.status.idle": "2023-02-22T16:06:18.87356Z",
          "shell.execute_reply.started": "2023-02-22T16:06:18.861439Z",
          "shell.execute_reply": "2023-02-22T16:06:18.872708Z"
        },
        "trusted": true,
        "id": "QGbx53CLT8Vg",
        "colab": {
          "base_uri": "https://localhost:8080/"
        },
        "outputId": "ea1aa905-6e99-4891-aa46-7acd5c7ca181"
      },
      "execution_count": null,
      "outputs": [
        {
          "output_type": "execute_result",
          "data": {
            "text/plain": [
              "5     CBIS-DDSM/jpeg/1.3.6.1.4.1.9590.100.1.2.153339...\n",
              "8     CBIS-DDSM/jpeg/1.3.6.1.4.1.9590.100.1.2.178994...\n",
              "9     CBIS-DDSM/jpeg/1.3.6.1.4.1.9590.100.1.2.411833...\n",
              "14    CBIS-DDSM/jpeg/1.3.6.1.4.1.9590.100.1.2.236373...\n",
              "20    CBIS-DDSM/jpeg/1.3.6.1.4.1.9590.100.1.2.357008...\n",
              "Name: image_path, dtype: object"
            ]
          },
          "metadata": {},
          "execution_count": 16
        }
      ]
    },
    {
      "cell_type": "code",
      "source": [
        "ROI_mask_images = ROI_mask_images.apply(lambda x: x.replace('CBIS-DDSM/jpeg', image_dir))\n",
        "ROI_mask_images.head()"
      ],
      "metadata": {
        "execution": {
          "iopub.status.busy": "2023-02-22T16:06:21.898566Z",
          "iopub.execute_input": "2023-02-22T16:06:21.898977Z",
          "iopub.status.idle": "2023-02-22T16:06:21.911023Z",
          "shell.execute_reply.started": "2023-02-22T16:06:21.898946Z",
          "shell.execute_reply": "2023-02-22T16:06:21.909686Z"
        },
        "trusted": true,
        "id": "BOZvd4aUT8Vg",
        "colab": {
          "base_uri": "https://localhost:8080/"
        },
        "outputId": "a7513d09-59c5-4b0e-a1c8-ffb762e1d32c"
      },
      "execution_count": null,
      "outputs": [
        {
          "output_type": "execute_result",
          "data": {
            "text/plain": [
              "5     /content/drive/MyDrive/Breast Cancer Detection...\n",
              "8     /content/drive/MyDrive/Breast Cancer Detection...\n",
              "9     /content/drive/MyDrive/Breast Cancer Detection...\n",
              "14    /content/drive/MyDrive/Breast Cancer Detection...\n",
              "20    /content/drive/MyDrive/Breast Cancer Detection...\n",
              "Name: image_path, dtype: object"
            ]
          },
          "metadata": {},
          "execution_count": 17
        }
      ]
    },
    {
      "cell_type": "code",
      "source": [
        "for file  in ROI_mask_images[0:5]:\n",
        "    ROI_mask_images_show = PIL.Image.open(file)\n",
        "    gray_img= ROI_mask_images_show.convert(\"L\")\n",
        "    plt.imshow(gray_img, cmap='gray')"
      ],
      "metadata": {
        "execution": {
          "iopub.status.busy": "2023-02-22T16:06:24.337735Z",
          "iopub.execute_input": "2023-02-22T16:06:24.338128Z",
          "iopub.status.idle": "2023-02-22T16:06:29.473857Z",
          "shell.execute_reply.started": "2023-02-22T16:06:24.338098Z",
          "shell.execute_reply": "2023-02-22T16:06:29.47276Z"
        },
        "trusted": true,
        "id": "9qY7lMzFT8Vh",
        "colab": {
          "base_uri": "https://localhost:8080/",
          "height": 435
        },
        "outputId": "fb84e35c-4c65-44ff-c607-f4a540cd9e15"
      },
      "execution_count": null,
      "outputs": [
        {
          "output_type": "display_data",
          "data": {
            "text/plain": [
              "<Figure size 640x480 with 1 Axes>"
            ],
            "image/png": "[encoded data removed]"
          },
          "metadata": {}
        }
      ]
    },
    {
      "cell_type": "code",
      "source": [
        "data_1=pd.read_csv(\"/content/drive/MyDrive/Breast Cancer Detection/csv/calc_case_description_train_set.csv\")"
      ],
      "metadata": {
        "execution": {
          "iopub.status.busy": "2023-02-22T16:13:45.483588Z",
          "iopub.execute_input": "2023-02-22T16:13:45.484031Z",
          "iopub.status.idle": "2023-02-22T16:13:45.566553Z",
          "shell.execute_reply.started": "2023-02-22T16:13:45.483999Z",
          "shell.execute_reply": "2023-02-22T16:13:45.565583Z"
        },
        "trusted": true,
        "id": "C0Mkus1kT8Vh"
      },
      "execution_count": null,
      "outputs": []
    },
    {
      "cell_type": "code",
      "source": [
        "data_1.head()"
      ],
      "metadata": {
        "execution": {
          "iopub.status.busy": "2023-02-22T16:13:48.437117Z",
          "iopub.execute_input": "2023-02-22T16:13:48.438223Z",
          "iopub.status.idle": "2023-02-22T16:13:48.45677Z",
          "shell.execute_reply.started": "2023-02-22T16:13:48.438171Z",
          "shell.execute_reply": "2023-02-22T16:13:48.455421Z"
        },
        "trusted": true,
        "id": "KLUjdEeFT8Vh",
        "colab": {
          "base_uri": "https://localhost:8080/",
          "height": 409
        },
        "outputId": "8867fd9c-e38e-44a7-8dc4-42c5af28859e"
      },
      "execution_count": null,
      "outputs": [
        {
          "output_type": "execute_result",
          "data": {
            "text/plain": [
              "  patient_id  breast density left or right breast image view  abnormality id  \\\n",
              "0    P_00005               3                RIGHT         CC               1   \n",
              "1    P_00005               3                RIGHT        MLO               1   \n",
              "2    P_00007               4                 LEFT         CC               1   \n",
              "3    P_00007               4                 LEFT        MLO               1   \n",
              "4    P_00008               1                 LEFT         CC               1   \n",
              "\n",
              "  abnormality type    calc type calc distribution  assessment  \\\n",
              "0    calcification    AMORPHOUS         CLUSTERED           3   \n",
              "1    calcification    AMORPHOUS         CLUSTERED           3   \n",
              "2    calcification  PLEOMORPHIC            LINEAR           4   \n",
              "3    calcification  PLEOMORPHIC            LINEAR           4   \n",
              "4    calcification          NaN          REGIONAL           2   \n",
              "\n",
              "                 pathology  subtlety  \\\n",
              "0                MALIGNANT         3   \n",
              "1                MALIGNANT         3   \n",
              "2                   BENIGN         4   \n",
              "3                   BENIGN         4   \n",
              "4  BENIGN_WITHOUT_CALLBACK         3   \n",
              "\n",
              "                                     image file path  \\\n",
              "0  Calc-Training_P_00005_RIGHT_CC/1.3.6.1.4.1.959...   \n",
              "1  Calc-Training_P_00005_RIGHT_MLO/1.3.6.1.4.1.95...   \n",
              "2  Calc-Training_P_00007_LEFT_CC/1.3.6.1.4.1.9590...   \n",
              "3  Calc-Training_P_00007_LEFT_MLO/1.3.6.1.4.1.959...   \n",
              "4  Calc-Training_P_00008_LEFT_CC/1.3.6.1.4.1.9590...   \n",
              "\n",
              "                             cropped image file path  \\\n",
              "0  Calc-Training_P_00005_RIGHT_CC_1/1.3.6.1.4.1.9...   \n",
              "1  Calc-Training_P_00005_RIGHT_MLO_1/1.3.6.1.4.1....   \n",
              "2  Calc-Training_P_00007_LEFT_CC_1/1.3.6.1.4.1.95...   \n",
              "3  Calc-Training_P_00007_LEFT_MLO_1/1.3.6.1.4.1.9...   \n",
              "4  Calc-Training_P_00008_LEFT_CC_1/1.3.6.1.4.1.95...   \n",
              "\n",
              "                                  ROI mask file path  \n",
              "0  Calc-Training_P_00005_RIGHT_CC_1/1.3.6.1.4.1.9...  \n",
              "1  Calc-Training_P_00005_RIGHT_MLO_1/1.3.6.1.4.1....  \n",
              "2  Calc-Training_P_00007_LEFT_CC_1/1.3.6.1.4.1.95...  \n",
              "3  Calc-Training_P_00007_LEFT_MLO_1/1.3.6.1.4.1.9...  \n",
              "4  Calc-Training_P_00008_LEFT_CC_1/1.3.6.1.4.1.95...  "
            ],
            "text/html": [
              "\n",
              "  <div id=\"df-332c1548-b3f6-4c70-a126-c8666ec14a09\">\n",
              "    <div class=\"colab-df-container\">\n",
              "      <div>\n",
              "<style scoped>\n",
              "    .dataframe tbody tr th:only-of-type {\n",
              "        vertical-align: middle;\n",
              "    }\n",
              "\n",
              "    .dataframe tbody tr th {\n",
              "        vertical-align: top;\n",
              "    }\n",
              "\n",
              "    .dataframe thead th {\n",
              "        text-align: right;\n",
              "    }\n",
              "</style>\n",
              "<table border=\"1\" class=\"dataframe\">\n",
              "  <thead>\n",
              "    <tr style=\"text-align: right;\">\n",
              "      <th></th>\n",
              "      <th>patient_id</th>\n",
              "      <th>breast density</th>\n",
              "      <th>left or right breast</th>\n",
              "      <th>image view</th>\n",
              "      <th>abnormality id</th>\n",
              "      <th>abnormality type</th>\n",
              "      <th>calc type</th>\n",
              "      <th>calc distribution</th>\n",
              "      <th>assessment</th>\n",
              "      <th>pathology</th>\n",
              "      <th>subtlety</th>\n",
              "      <th>image file path</th>\n",
              "      <th>cropped image file path</th>\n",
              "      <th>ROI mask file path</th>\n",
              "    </tr>\n",
              "  </thead>\n",
              "  <tbody>\n",
              "    <tr>\n",
              "      <th>0</th>\n",
              "      <td>P_00005</td>\n",
              "      <td>3</td>\n",
              "      <td>RIGHT</td>\n",
              "      <td>CC</td>\n",
              "      <td>1</td>\n",
              "      <td>calcification</td>\n",
              "      <td>AMORPHOUS</td>\n",
              "      <td>CLUSTERED</td>\n",
              "      <td>3</td>\n",
              "      <td>MALIGNANT</td>\n",
              "      <td>3</td>\n",
              "      <td>Calc-Training_P_00005_RIGHT_CC/1.3.6.1.4.1.959...</td>\n",
              "      <td>Calc-Training_P_00005_RIGHT_CC_1/1.3.6.1.4.1.9...</td>\n",
              "      <td>Calc-Training_P_00005_RIGHT_CC_1/1.3.6.1.4.1.9...</td>\n",
              "    </tr>\n",
              "    <tr>\n",
              "      <th>1</th>\n",
              "      <td>P_00005</td>\n",
              "      <td>3</td>\n",
              "      <td>RIGHT</td>\n",
              "      <td>MLO</td>\n",
              "      <td>1</td>\n",
              "      <td>calcification</td>\n",
              "      <td>AMORPHOUS</td>\n",
              "      <td>CLUSTERED</td>\n",
              "      <td>3</td>\n",
              "      <td>MALIGNANT</td>\n",
              "      <td>3</td>\n",
              "      <td>Calc-Training_P_00005_RIGHT_MLO/1.3.6.1.4.1.95...</td>\n",
              "      <td>Calc-Training_P_00005_RIGHT_MLO_1/1.3.6.1.4.1....</td>\n",
              "      <td>Calc-Training_P_00005_RIGHT_MLO_1/1.3.6.1.4.1....</td>\n",
              "    </tr>\n",
              "    <tr>\n",
              "      <th>2</th>\n",
              "      <td>P_00007</td>\n",
              "      <td>4</td>\n",
              "      <td>LEFT</td>\n",
              "      <td>CC</td>\n",
              "      <td>1</td>\n",
              "      <td>calcification</td>\n",
              "      <td>PLEOMORPHIC</td>\n",
              "      <td>LINEAR</td>\n",
              "      <td>4</td>\n",
              "      <td>BENIGN</td>\n",
              "      <td>4</td>\n",
              "      <td>Calc-Training_P_00007_LEFT_CC/1.3.6.1.4.1.9590...</td>\n",
              "      <td>Calc-Training_P_00007_LEFT_CC_1/1.3.6.1.4.1.95...</td>\n",
              "      <td>Calc-Training_P_00007_LEFT_CC_1/1.3.6.1.4.1.95...</td>\n",
              "    </tr>\n",
              "    <tr>\n",
              "      <th>3</th>\n",
              "      <td>P_00007</td>\n",
              "      <td>4</td>\n",
              "      <td>LEFT</td>\n",
              "      <td>MLO</td>\n",
              "      <td>1</td>\n",
              "      <td>calcification</td>\n",
              "      <td>PLEOMORPHIC</td>\n",
              "      <td>LINEAR</td>\n",
              "      <td>4</td>\n",
              "      <td>BENIGN</td>\n",
              "      <td>4</td>\n",
              "      <td>Calc-Training_P_00007_LEFT_MLO/1.3.6.1.4.1.959...</td>\n",
              "      <td>Calc-Training_P_00007_LEFT_MLO_1/1.3.6.1.4.1.9...</td>\n",
              "      <td>Calc-Training_P_00007_LEFT_MLO_1/1.3.6.1.4.1.9...</td>\n",
              "    </tr>\n",
              "    <tr>\n",
              "      <th>4</th>\n",
              "      <td>P_00008</td>\n",
              "      <td>1</td>\n",
              "      <td>LEFT</td>\n",
              "      <td>CC</td>\n",
              "      <td>1</td>\n",
              "      <td>calcification</td>\n",
              "      <td>NaN</td>\n",
              "      <td>REGIONAL</td>\n",
              "      <td>2</td>\n",
              "      <td>BENIGN_WITHOUT_CALLBACK</td>\n",
              "      <td>3</td>\n",
              "      <td>Calc-Training_P_00008_LEFT_CC/1.3.6.1.4.1.9590...</td>\n",
              "      <td>Calc-Training_P_00008_LEFT_CC_1/1.3.6.1.4.1.95...</td>\n",
              "      <td>Calc-Training_P_00008_LEFT_CC_1/1.3.6.1.4.1.95...</td>\n",
              "    </tr>\n",
              "  </tbody>\n",
              "</table>\n",
              "</div>\n",
              "      <button class=\"colab-df-convert\" onclick=\"convertToInteractive('df-332c1548-b3f6-4c70-a126-c8666ec14a09')\"\n",
              "              title=\"Convert this dataframe to an interactive table.\"\n",
              "              style=\"display:none;\">\n",
              "        \n",
              "  <svg xmlns=\"http://www.w3.org/2000/svg\" height=\"24px\"viewBox=\"0 0 24 24\"\n",
              "       width=\"24px\">\n",
              "    <path d=\"M0 0h24v24H0V0z\" fill=\"none\"/>\n",
              "    <path d=\"M18.56 5.44l.94 2.06.94-2.06 2.06-.94-2.06-.94-.94-2.06-.94 2.06-2.06.94zm-11 1L8.5 8.5l.94-2.06 2.06-.94-2.06-.94L8.5 2.5l-.94 2.06-2.06.94zm10 10l.94 2.06.94-2.06 2.06-.94-2.06-.94-.94-2.06-.94 2.06-2.06.94z\"/><path d=\"M17.41 7.96l-1.37-1.37c-.4-.4-.92-.59-1.43-.59-.52 0-1.04.2-1.43.59L10.3 9.45l-7.72 7.72c-.78.78-.78 2.05 0 2.83L4 21.41c.39.39.9.59 1.41.59.51 0 1.02-.2 1.41-.59l7.78-7.78 2.81-2.81c.8-.78.8-2.07 0-2.86zM5.41 20L4 18.59l7.72-7.72 1.47 1.35L5.41 20z\"/>\n",
              "  </svg>\n",
              "      </button>\n",
              "      \n",
              "  <style>\n",
              "    .colab-df-container {\n",
              "      display:flex;\n",
              "      flex-wrap:wrap;\n",
              "      gap: 12px;\n",
              "    }\n",
              "\n",
              "    .colab-df-convert {\n",
              "      background-color: #E8F0FE;\n",
              "      border: none;\n",
              "      border-radius: 50%;\n",
              "      cursor: pointer;\n",
              "      display: none;\n",
              "      fill: #1967D2;\n",
              "      height: 32px;\n",
              "      padding: 0 0 0 0;\n",
              "      width: 32px;\n",
              "    }\n",
              "\n",
              "    .colab-df-convert:hover {\n",
              "      background-color: #E2EBFA;\n",
              "      box-shadow: 0px 1px 2px rgba(60, 64, 67, 0.3), 0px 1px 3px 1px rgba(60, 64, 67, 0.15);\n",
              "      fill: #174EA6;\n",
              "    }\n",
              "\n",
              "    [theme=dark] .colab-df-convert {\n",
              "      background-color: #3B4455;\n",
              "      fill: #D2E3FC;\n",
              "    }\n",
              "\n",
              "    [theme=dark] .colab-df-convert:hover {\n",
              "      background-color: #434B5C;\n",
              "      box-shadow: 0px 1px 3px 1px rgba(0, 0, 0, 0.15);\n",
              "      filter: drop-shadow(0px 1px 2px rgba(0, 0, 0, 0.3));\n",
              "      fill: #FFFFFF;\n",
              "    }\n",
              "  </style>\n",
              "\n",
              "      <script>\n",
              "        const buttonEl =\n",
              "          document.querySelector('#df-332c1548-b3f6-4c70-a126-c8666ec14a09 button.colab-df-convert');\n",
              "        buttonEl.style.display =\n",
              "          google.colab.kernel.accessAllowed ? 'block' : 'none';\n",
              "\n",
              "        async function convertToInteractive(key) {\n",
              "          const element = document.querySelector('#df-332c1548-b3f6-4c70-a126-c8666ec14a09');\n",
              "          const dataTable =\n",
              "            await google.colab.kernel.invokeFunction('convertToInteractive',\n",
              "                                                     [key], {});\n",
              "          if (!dataTable) return;\n",
              "\n",
              "          const docLinkHtml = 'Like what you see? Visit the ' +\n",
              "            '<a target=\"_blank\" href=https://colab.research.google.com/notebooks/data_table.ipynb>data table notebook</a>'\n",
              "            + ' to learn more about interactive tables.';\n",
              "          element.innerHTML = '';\n",
              "          dataTable['output_type'] = 'display_data';\n",
              "          await google.colab.output.renderOutput(dataTable, element);\n",
              "          const docLink = document.createElement('div');\n",
              "          docLink.innerHTML = docLinkHtml;\n",
              "          element.appendChild(docLink);\n",
              "        }\n",
              "      </script>\n",
              "    </div>\n",
              "  </div>\n",
              "  "
            ]
          },
          "metadata": {},
          "execution_count": 20
        }
      ]
    },
    {
      "cell_type": "code",
      "source": [
        "data_1.info()"
      ],
      "metadata": {
        "execution": {
          "iopub.status.busy": "2023-02-22T16:13:54.191594Z",
          "iopub.execute_input": "2023-02-22T16:13:54.192628Z",
          "iopub.status.idle": "2023-02-22T16:13:54.20801Z",
          "shell.execute_reply.started": "2023-02-22T16:13:54.192553Z",
          "shell.execute_reply": "2023-02-22T16:13:54.20669Z"
        },
        "trusted": true,
        "id": "6yxsmVp2T8Vh",
        "colab": {
          "base_uri": "https://localhost:8080/"
        },
        "outputId": "2a0c0be6-bba6-411f-c585-1e2c707a5387"
      },
      "execution_count": null,
      "outputs": [
        {
          "output_type": "stream",
          "name": "stdout",
          "text": [
            "<class 'pandas.core.frame.DataFrame'>\n",
            "RangeIndex: 1546 entries, 0 to 1545\n",
            "Data columns (total 14 columns):\n",
            " #   Column                   Non-Null Count  Dtype \n",
            "---  ------                   --------------  ----- \n",
            " 0   patient_id               1546 non-null   object\n",
            " 1   breast density           1546 non-null   int64 \n",
            " 2   left or right breast     1546 non-null   object\n",
            " 3   image view               1546 non-null   object\n",
            " 4   abnormality id           1546 non-null   int64 \n",
            " 5   abnormality type         1546 non-null   object\n",
            " 6   calc type                1526 non-null   object\n",
            " 7   calc distribution        1170 non-null   object\n",
            " 8   assessment               1546 non-null   int64 \n",
            " 9   pathology                1546 non-null   object\n",
            " 10  subtlety                 1546 non-null   int64 \n",
            " 11  image file path          1546 non-null   object\n",
            " 12  cropped image file path  1546 non-null   object\n",
            " 13  ROI mask file path       1546 non-null   object\n",
            "dtypes: int64(4), object(10)\n",
            "memory usage: 169.2+ KB\n"
          ]
        }
      ]
    },
    {
      "cell_type": "code",
      "source": [
        "data_1.describe()"
      ],
      "metadata": {
        "execution": {
          "iopub.status.busy": "2023-02-22T16:14:00.215181Z",
          "iopub.execute_input": "2023-02-22T16:14:00.21559Z",
          "iopub.status.idle": "2023-02-22T16:14:00.241725Z",
          "shell.execute_reply.started": "2023-02-22T16:14:00.215558Z",
          "shell.execute_reply": "2023-02-22T16:14:00.240534Z"
        },
        "trusted": true,
        "id": "JILdpmBkT8Vh",
        "colab": {
          "base_uri": "https://localhost:8080/",
          "height": 300
        },
        "outputId": "fdf2aa72-56b7-41ca-c67f-6f343eb153eb"
      },
      "execution_count": null,
      "outputs": [
        {
          "output_type": "execute_result",
          "data": {
            "text/plain": [
              "       breast density  abnormality id   assessment     subtlety\n",
              "count     1546.000000     1546.000000  1546.000000  1546.000000\n",
              "mean         2.663648        1.415265     3.258732     3.411384\n",
              "std          0.937219        0.903571     1.229231     1.179754\n",
              "min          1.000000        1.000000     0.000000     1.000000\n",
              "25%          2.000000        1.000000     2.000000     3.000000\n",
              "50%          3.000000        1.000000     4.000000     3.000000\n",
              "75%          3.000000        1.000000     4.000000     4.000000\n",
              "max          4.000000        7.000000     5.000000     5.000000"
            ],
            "text/html": [
              "\n",
              "  <div id=\"df-accc298b-d71f-4a1b-82c9-39a3c429613e\">\n",
              "    <div class=\"colab-df-container\">\n",
              "      <div>\n",
              "<style scoped>\n",
              "    .dataframe tbody tr th:only-of-type {\n",
              "        vertical-align: middle;\n",
              "    }\n",
              "\n",
              "    .dataframe tbody tr th {\n",
              "        vertical-align: top;\n",
              "    }\n",
              "\n",
              "    .dataframe thead th {\n",
              "        text-align: right;\n",
              "    }\n",
              "</style>\n",
              "<table border=\"1\" class=\"dataframe\">\n",
              "  <thead>\n",
              "    <tr style=\"text-align: right;\">\n",
              "      <th></th>\n",
              "      <th>breast density</th>\n",
              "      <th>abnormality id</th>\n",
              "      <th>assessment</th>\n",
              "      <th>subtlety</th>\n",
              "    </tr>\n",
              "  </thead>\n",
              "  <tbody>\n",
              "    <tr>\n",
              "      <th>count</th>\n",
              "      <td>1546.000000</td>\n",
              "      <td>1546.000000</td>\n",
              "      <td>1546.000000</td>\n",
              "      <td>1546.000000</td>\n",
              "    </tr>\n",
              "    <tr>\n",
              "      <th>mean</th>\n",
              "      <td>2.663648</td>\n",
              "      <td>1.415265</td>\n",
              "      <td>3.258732</td>\n",
              "      <td>3.411384</td>\n",
              "    </tr>\n",
              "    <tr>\n",
              "      <th>std</th>\n",
              "      <td>0.937219</td>\n",
              "      <td>0.903571</td>\n",
              "      <td>1.229231</td>\n",
              "      <td>1.179754</td>\n",
              "    </tr>\n",
              "    <tr>\n",
              "      <th>min</th>\n",
              "      <td>1.000000</td>\n",
              "      <td>1.000000</td>\n",
              "      <td>0.000000</td>\n",
              "      <td>1.000000</td>\n",
              "    </tr>\n",
              "    <tr>\n",
              "      <th>25%</th>\n",
              "      <td>2.000000</td>\n",
              "      <td>1.000000</td>\n",
              "      <td>2.000000</td>\n",
              "      <td>3.000000</td>\n",
              "    </tr>\n",
              "    <tr>\n",
              "      <th>50%</th>\n",
              "      <td>3.000000</td>\n",
              "      <td>1.000000</td>\n",
              "      <td>4.000000</td>\n",
              "      <td>3.000000</td>\n",
              "    </tr>\n",
              "    <tr>\n",
              "      <th>75%</th>\n",
              "      <td>3.000000</td>\n",
              "      <td>1.000000</td>\n",
              "      <td>4.000000</td>\n",
              "      <td>4.000000</td>\n",
              "    </tr>\n",
              "    <tr>\n",
              "      <th>max</th>\n",
              "      <td>4.000000</td>\n",
              "      <td>7.000000</td>\n",
              "      <td>5.000000</td>\n",
              "      <td>5.000000</td>\n",
              "    </tr>\n",
              "  </tbody>\n",
              "</table>\n",
              "</div>\n",
              "      <button class=\"colab-df-convert\" onclick=\"convertToInteractive('df-accc298b-d71f-4a1b-82c9-39a3c429613e')\"\n",
              "              title=\"Convert this dataframe to an interactive table.\"\n",
              "              style=\"display:none;\">\n",
              "        \n",
              "  <svg xmlns=\"http://www.w3.org/2000/svg\" height=\"24px\"viewBox=\"0 0 24 24\"\n",
              "       width=\"24px\">\n",
              "    <path d=\"M0 0h24v24H0V0z\" fill=\"none\"/>\n",
              "    <path d=\"M18.56 5.44l.94 2.06.94-2.06 2.06-.94-2.06-.94-.94-2.06-.94 2.06-2.06.94zm-11 1L8.5 8.5l.94-2.06 2.06-.94-2.06-.94L8.5 2.5l-.94 2.06-2.06.94zm10 10l.94 2.06.94-2.06 2.06-.94-2.06-.94-.94-2.06-.94 2.06-2.06.94z\"/><path d=\"M17.41 7.96l-1.37-1.37c-.4-.4-.92-.59-1.43-.59-.52 0-1.04.2-1.43.59L10.3 9.45l-7.72 7.72c-.78.78-.78 2.05 0 2.83L4 21.41c.39.39.9.59 1.41.59.51 0 1.02-.2 1.41-.59l7.78-7.78 2.81-2.81c.8-.78.8-2.07 0-2.86zM5.41 20L4 18.59l7.72-7.72 1.47 1.35L5.41 20z\"/>\n",
              "  </svg>\n",
              "      </button>\n",
              "      \n",
              "  <style>\n",
              "    .colab-df-container {\n",
              "      display:flex;\n",
              "      flex-wrap:wrap;\n",
              "      gap: 12px;\n",
              "    }\n",
              "\n",
              "    .colab-df-convert {\n",
              "      background-color: #E8F0FE;\n",
              "      border: none;\n",
              "      border-radius: 50%;\n",
              "      cursor: pointer;\n",
              "      display: none;\n",
              "      fill: #1967D2;\n",
              "      height: 32px;\n",
              "      padding: 0 0 0 0;\n",
              "      width: 32px;\n",
              "    }\n",
              "\n",
              "    .colab-df-convert:hover {\n",
              "      background-color: #E2EBFA;\n",
              "      box-shadow: 0px 1px 2px rgba(60, 64, 67, 0.3), 0px 1px 3px 1px rgba(60, 64, 67, 0.15);\n",
              "      fill: #174EA6;\n",
              "    }\n",
              "\n",
              "    [theme=dark] .colab-df-convert {\n",
              "      background-color: #3B4455;\n",
              "      fill: #D2E3FC;\n",
              "    }\n",
              "\n",
              "    [theme=dark] .colab-df-convert:hover {\n",
              "      background-color: #434B5C;\n",
              "      box-shadow: 0px 1px 3px 1px rgba(0, 0, 0, 0.15);\n",
              "      filter: drop-shadow(0px 1px 2px rgba(0, 0, 0, 0.3));\n",
              "      fill: #FFFFFF;\n",
              "    }\n",
              "  </style>\n",
              "\n",
              "      <script>\n",
              "        const buttonEl =\n",
              "          document.querySelector('#df-accc298b-d71f-4a1b-82c9-39a3c429613e button.colab-df-convert');\n",
              "        buttonEl.style.display =\n",
              "          google.colab.kernel.accessAllowed ? 'block' : 'none';\n",
              "\n",
              "        async function convertToInteractive(key) {\n",
              "          const element = document.querySelector('#df-accc298b-d71f-4a1b-82c9-39a3c429613e');\n",
              "          const dataTable =\n",
              "            await google.colab.kernel.invokeFunction('convertToInteractive',\n",
              "                                                     [key], {});\n",
              "          if (!dataTable) return;\n",
              "\n",
              "          const docLinkHtml = 'Like what you see? Visit the ' +\n",
              "            '<a target=\"_blank\" href=https://colab.research.google.com/notebooks/data_table.ipynb>data table notebook</a>'\n",
              "            + ' to learn more about interactive tables.';\n",
              "          element.innerHTML = '';\n",
              "          dataTable['output_type'] = 'display_data';\n",
              "          await google.colab.output.renderOutput(dataTable, element);\n",
              "          const docLink = document.createElement('div');\n",
              "          docLink.innerHTML = docLinkHtml;\n",
              "          element.appendChild(docLink);\n",
              "        }\n",
              "      </script>\n",
              "    </div>\n",
              "  </div>\n",
              "  "
            ]
          },
          "metadata": {},
          "execution_count": 22
        }
      ]
    },
    {
      "cell_type": "code",
      "source": [
        "data_2=pd.read_csv('/content/drive/MyDrive/Breast Cancer Detection/csv/mass_case_description_train_set.csv')"
      ],
      "metadata": {
        "execution": {
          "iopub.status.busy": "2023-02-22T16:14:06.807017Z",
          "iopub.execute_input": "2023-02-22T16:14:06.808102Z",
          "iopub.status.idle": "2023-02-22T16:14:06.852157Z",
          "shell.execute_reply.started": "2023-02-22T16:14:06.808052Z",
          "shell.execute_reply": "2023-02-22T16:14:06.851197Z"
        },
        "trusted": true,
        "id": "CPwxlpjuT8Vh"
      },
      "execution_count": null,
      "outputs": []
    },
    {
      "cell_type": "code",
      "source": [
        "data_2.head()"
      ],
      "metadata": {
        "execution": {
          "iopub.status.busy": "2023-02-22T16:14:09.117783Z",
          "iopub.execute_input": "2023-02-22T16:14:09.118768Z",
          "iopub.status.idle": "2023-02-22T16:14:09.136719Z",
          "shell.execute_reply.started": "2023-02-22T16:14:09.11873Z",
          "shell.execute_reply": "2023-02-22T16:14:09.135403Z"
        },
        "trusted": true,
        "id": "CDf6rRs1T8Vh",
        "colab": {
          "base_uri": "https://localhost:8080/",
          "height": 409
        },
        "outputId": "e906c3c6-1067-4d90-ee24-7588adc83566"
      },
      "execution_count": null,
      "outputs": [
        {
          "output_type": "execute_result",
          "data": {
            "text/plain": [
              "  patient_id  breast_density left or right breast image view  abnormality id  \\\n",
              "0    P_00001               3                 LEFT         CC               1   \n",
              "1    P_00001               3                 LEFT        MLO               1   \n",
              "2    P_00004               3                 LEFT         CC               1   \n",
              "3    P_00004               3                 LEFT        MLO               1   \n",
              "4    P_00004               3                RIGHT        MLO               1   \n",
              "\n",
              "  abnormality type                          mass shape   mass margins  \\\n",
              "0             mass  IRREGULAR-ARCHITECTURAL_DISTORTION     SPICULATED   \n",
              "1             mass  IRREGULAR-ARCHITECTURAL_DISTORTION     SPICULATED   \n",
              "2             mass            ARCHITECTURAL_DISTORTION    ILL_DEFINED   \n",
              "3             mass            ARCHITECTURAL_DISTORTION    ILL_DEFINED   \n",
              "4             mass                                OVAL  CIRCUMSCRIBED   \n",
              "\n",
              "   assessment  pathology  subtlety  \\\n",
              "0           4  MALIGNANT         4   \n",
              "1           4  MALIGNANT         4   \n",
              "2           4     BENIGN         3   \n",
              "3           4     BENIGN         3   \n",
              "4           4     BENIGN         5   \n",
              "\n",
              "                                     image file path  \\\n",
              "0  Mass-Training_P_00001_LEFT_CC/1.3.6.1.4.1.9590...   \n",
              "1  Mass-Training_P_00001_LEFT_MLO/1.3.6.1.4.1.959...   \n",
              "2  Mass-Training_P_00004_LEFT_CC/1.3.6.1.4.1.9590...   \n",
              "3  Mass-Training_P_00004_LEFT_MLO/1.3.6.1.4.1.959...   \n",
              "4  Mass-Training_P_00004_RIGHT_MLO/1.3.6.1.4.1.95...   \n",
              "\n",
              "                             cropped image file path  \\\n",
              "0  Mass-Training_P_00001_LEFT_CC_1/1.3.6.1.4.1.95...   \n",
              "1  Mass-Training_P_00001_LEFT_MLO_1/1.3.6.1.4.1.9...   \n",
              "2  Mass-Training_P_00004_LEFT_CC_1/1.3.6.1.4.1.95...   \n",
              "3  Mass-Training_P_00004_LEFT_MLO_1/1.3.6.1.4.1.9...   \n",
              "4  Mass-Training_P_00004_RIGHT_MLO_1/1.3.6.1.4.1....   \n",
              "\n",
              "                                  ROI mask file path  \n",
              "0  Mass-Training_P_00001_LEFT_CC_1/1.3.6.1.4.1.95...  \n",
              "1  Mass-Training_P_00001_LEFT_MLO_1/1.3.6.1.4.1.9...  \n",
              "2  Mass-Training_P_00004_LEFT_CC_1/1.3.6.1.4.1.95...  \n",
              "3  Mass-Training_P_00004_LEFT_MLO_1/1.3.6.1.4.1.9...  \n",
              "4  Mass-Training_P_00004_RIGHT_MLO_1/1.3.6.1.4.1....  "
            ],
            "text/html": [
              "\n",
              "  <div id=\"df-f4af5329-54de-40cc-8395-f1cba2f91e17\">\n",
              "    <div class=\"colab-df-container\">\n",
              "      <div>\n",
              "<style scoped>\n",
              "    .dataframe tbody tr th:only-of-type {\n",
              "        vertical-align: middle;\n",
              "    }\n",
              "\n",
              "    .dataframe tbody tr th {\n",
              "        vertical-align: top;\n",
              "    }\n",
              "\n",
              "    .dataframe thead th {\n",
              "        text-align: right;\n",
              "    }\n",
              "</style>\n",
              "<table border=\"1\" class=\"dataframe\">\n",
              "  <thead>\n",
              "    <tr style=\"text-align: right;\">\n",
              "      <th></th>\n",
              "      <th>patient_id</th>\n",
              "      <th>breast_density</th>\n",
              "      <th>left or right breast</th>\n",
              "      <th>image view</th>\n",
              "      <th>abnormality id</th>\n",
              "      <th>abnormality type</th>\n",
              "      <th>mass shape</th>\n",
              "      <th>mass margins</th>\n",
              "      <th>assessment</th>\n",
              "      <th>pathology</th>\n",
              "      <th>subtlety</th>\n",
              "      <th>image file path</th>\n",
              "      <th>cropped image file path</th>\n",
              "      <th>ROI mask file path</th>\n",
              "    </tr>\n",
              "  </thead>\n",
              "  <tbody>\n",
              "    <tr>\n",
              "      <th>0</th>\n",
              "      <td>P_00001</td>\n",
              "      <td>3</td>\n",
              "      <td>LEFT</td>\n",
              "      <td>CC</td>\n",
              "      <td>1</td>\n",
              "      <td>mass</td>\n",
              "      <td>IRREGULAR-ARCHITECTURAL_DISTORTION</td>\n",
              "      <td>SPICULATED</td>\n",
              "      <td>4</td>\n",
              "      <td>MALIGNANT</td>\n",
              "      <td>4</td>\n",
              "      <td>Mass-Training_P_00001_LEFT_CC/1.3.6.1.4.1.9590...</td>\n",
              "      <td>Mass-Training_P_00001_LEFT_CC_1/1.3.6.1.4.1.95...</td>\n",
              "      <td>Mass-Training_P_00001_LEFT_CC_1/1.3.6.1.4.1.95...</td>\n",
              "    </tr>\n",
              "    <tr>\n",
              "      <th>1</th>\n",
              "      <td>P_00001</td>\n",
              "      <td>3</td>\n",
              "      <td>LEFT</td>\n",
              "      <td>MLO</td>\n",
              "      <td>1</td>\n",
              "      <td>mass</td>\n",
              "      <td>IRREGULAR-ARCHITECTURAL_DISTORTION</td>\n",
              "      <td>SPICULATED</td>\n",
              "      <td>4</td>\n",
              "      <td>MALIGNANT</td>\n",
              "      <td>4</td>\n",
              "      <td>Mass-Training_P_00001_LEFT_MLO/1.3.6.1.4.1.959...</td>\n",
              "      <td>Mass-Training_P_00001_LEFT_MLO_1/1.3.6.1.4.1.9...</td>\n",
              "      <td>Mass-Training_P_00001_LEFT_MLO_1/1.3.6.1.4.1.9...</td>\n",
              "    </tr>\n",
              "    <tr>\n",
              "      <th>2</th>\n",
              "      <td>P_00004</td>\n",
              "      <td>3</td>\n",
              "      <td>LEFT</td>\n",
              "      <td>CC</td>\n",
              "      <td>1</td>\n",
              "      <td>mass</td>\n",
              "      <td>ARCHITECTURAL_DISTORTION</td>\n",
              "      <td>ILL_DEFINED</td>\n",
              "      <td>4</td>\n",
              "      <td>BENIGN</td>\n",
              "      <td>3</td>\n",
              "      <td>Mass-Training_P_00004_LEFT_CC/1.3.6.1.4.1.9590...</td>\n",
              "      <td>Mass-Training_P_00004_LEFT_CC_1/1.3.6.1.4.1.95...</td>\n",
              "      <td>Mass-Training_P_00004_LEFT_CC_1/1.3.6.1.4.1.95...</td>\n",
              "    </tr>\n",
              "    <tr>\n",
              "      <th>3</th>\n",
              "      <td>P_00004</td>\n",
              "      <td>3</td>\n",
              "      <td>LEFT</td>\n",
              "      <td>MLO</td>\n",
              "      <td>1</td>\n",
              "      <td>mass</td>\n",
              "      <td>ARCHITECTURAL_DISTORTION</td>\n",
              "      <td>ILL_DEFINED</td>\n",
              "      <td>4</td>\n",
              "      <td>BENIGN</td>\n",
              "      <td>3</td>\n",
              "      <td>Mass-Training_P_00004_LEFT_MLO/1.3.6.1.4.1.959...</td>\n",
              "      <td>Mass-Training_P_00004_LEFT_MLO_1/1.3.6.1.4.1.9...</td>\n",
              "      <td>Mass-Training_P_00004_LEFT_MLO_1/1.3.6.1.4.1.9...</td>\n",
              "    </tr>\n",
              "    <tr>\n",
              "      <th>4</th>\n",
              "      <td>P_00004</td>\n",
              "      <td>3</td>\n",
              "      <td>RIGHT</td>\n",
              "      <td>MLO</td>\n",
              "      <td>1</td>\n",
              "      <td>mass</td>\n",
              "      <td>OVAL</td>\n",
              "      <td>CIRCUMSCRIBED</td>\n",
              "      <td>4</td>\n",
              "      <td>BENIGN</td>\n",
              "      <td>5</td>\n",
              "      <td>Mass-Training_P_00004_RIGHT_MLO/1.3.6.1.4.1.95...</td>\n",
              "      <td>Mass-Training_P_00004_RIGHT_MLO_1/1.3.6.1.4.1....</td>\n",
              "      <td>Mass-Training_P_00004_RIGHT_MLO_1/1.3.6.1.4.1....</td>\n",
              "    </tr>\n",
              "  </tbody>\n",
              "</table>\n",
              "</div>\n",
              "      <button class=\"colab-df-convert\" onclick=\"convertToInteractive('df-f4af5329-54de-40cc-8395-f1cba2f91e17')\"\n",
              "              title=\"Convert this dataframe to an interactive table.\"\n",
              "              style=\"display:none;\">\n",
              "        \n",
              "  <svg xmlns=\"http://www.w3.org/2000/svg\" height=\"24px\"viewBox=\"0 0 24 24\"\n",
              "       width=\"24px\">\n",
              "    <path d=\"M0 0h24v24H0V0z\" fill=\"none\"/>\n",
              "    <path d=\"M18.56 5.44l.94 2.06.94-2.06 2.06-.94-2.06-.94-.94-2.06-.94 2.06-2.06.94zm-11 1L8.5 8.5l.94-2.06 2.06-.94-2.06-.94L8.5 2.5l-.94 2.06-2.06.94zm10 10l.94 2.06.94-2.06 2.06-.94-2.06-.94-.94-2.06-.94 2.06-2.06.94z\"/><path d=\"M17.41 7.96l-1.37-1.37c-.4-.4-.92-.59-1.43-.59-.52 0-1.04.2-1.43.59L10.3 9.45l-7.72 7.72c-.78.78-.78 2.05 0 2.83L4 21.41c.39.39.9.59 1.41.59.51 0 1.02-.2 1.41-.59l7.78-7.78 2.81-2.81c.8-.78.8-2.07 0-2.86zM5.41 20L4 18.59l7.72-7.72 1.47 1.35L5.41 20z\"/>\n",
              "  </svg>\n",
              "      </button>\n",
              "      \n",
              "  <style>\n",
              "    .colab-df-container {\n",
              "      display:flex;\n",
              "      flex-wrap:wrap;\n",
              "      gap: 12px;\n",
              "    }\n",
              "\n",
              "    .colab-df-convert {\n",
              "      background-color: #E8F0FE;\n",
              "      border: none;\n",
              "      border-radius: 50%;\n",
              "      cursor: pointer;\n",
              "      display: none;\n",
              "      fill: #1967D2;\n",
              "      height: 32px;\n",
              "      padding: 0 0 0 0;\n",
              "      width: 32px;\n",
              "    }\n",
              "\n",
              "    .colab-df-convert:hover {\n",
              "      background-color: #E2EBFA;\n",
              "      box-shadow: 0px 1px 2px rgba(60, 64, 67, 0.3), 0px 1px 3px 1px rgba(60, 64, 67, 0.15);\n",
              "      fill: #174EA6;\n",
              "    }\n",
              "\n",
              "    [theme=dark] .colab-df-convert {\n",
              "      background-color: #3B4455;\n",
              "      fill: #D2E3FC;\n",
              "    }\n",
              "\n",
              "    [theme=dark] .colab-df-convert:hover {\n",
              "      background-color: #434B5C;\n",
              "      box-shadow: 0px 1px 3px 1px rgba(0, 0, 0, 0.15);\n",
              "      filter: drop-shadow(0px 1px 2px rgba(0, 0, 0, 0.3));\n",
              "      fill: #FFFFFF;\n",
              "    }\n",
              "  </style>\n",
              "\n",
              "      <script>\n",
              "        const buttonEl =\n",
              "          document.querySelector('#df-f4af5329-54de-40cc-8395-f1cba2f91e17 button.colab-df-convert');\n",
              "        buttonEl.style.display =\n",
              "          google.colab.kernel.accessAllowed ? 'block' : 'none';\n",
              "\n",
              "        async function convertToInteractive(key) {\n",
              "          const element = document.querySelector('#df-f4af5329-54de-40cc-8395-f1cba2f91e17');\n",
              "          const dataTable =\n",
              "            await google.colab.kernel.invokeFunction('convertToInteractive',\n",
              "                                                     [key], {});\n",
              "          if (!dataTable) return;\n",
              "\n",
              "          const docLinkHtml = 'Like what you see? Visit the ' +\n",
              "            '<a target=\"_blank\" href=https://colab.research.google.com/notebooks/data_table.ipynb>data table notebook</a>'\n",
              "            + ' to learn more about interactive tables.';\n",
              "          element.innerHTML = '';\n",
              "          dataTable['output_type'] = 'display_data';\n",
              "          await google.colab.output.renderOutput(dataTable, element);\n",
              "          const docLink = document.createElement('div');\n",
              "          docLink.innerHTML = docLinkHtml;\n",
              "          element.appendChild(docLink);\n",
              "        }\n",
              "      </script>\n",
              "    </div>\n",
              "  </div>\n",
              "  "
            ]
          },
          "metadata": {},
          "execution_count": 24
        }
      ]
    },
    {
      "cell_type": "code",
      "source": [
        "data_2.info()"
      ],
      "metadata": {
        "execution": {
          "iopub.status.busy": "2023-02-22T16:14:12.571595Z",
          "iopub.execute_input": "2023-02-22T16:14:12.57205Z",
          "iopub.status.idle": "2023-02-22T16:14:12.588169Z",
          "shell.execute_reply.started": "2023-02-22T16:14:12.572013Z",
          "shell.execute_reply": "2023-02-22T16:14:12.586888Z"
        },
        "trusted": true,
        "id": "Q6DlJaP3T8Vh",
        "colab": {
          "base_uri": "https://localhost:8080/"
        },
        "outputId": "53740c76-5186-4d44-b8af-a539fe642acc"
      },
      "execution_count": null,
      "outputs": [
        {
          "output_type": "stream",
          "name": "stdout",
          "text": [
            "<class 'pandas.core.frame.DataFrame'>\n",
            "RangeIndex: 1318 entries, 0 to 1317\n",
            "Data columns (total 14 columns):\n",
            " #   Column                   Non-Null Count  Dtype \n",
            "---  ------                   --------------  ----- \n",
            " 0   patient_id               1318 non-null   object\n",
            " 1   breast_density           1318 non-null   int64 \n",
            " 2   left or right breast     1318 non-null   object\n",
            " 3   image view               1318 non-null   object\n",
            " 4   abnormality id           1318 non-null   int64 \n",
            " 5   abnormality type         1318 non-null   object\n",
            " 6   mass shape               1314 non-null   object\n",
            " 7   mass margins             1275 non-null   object\n",
            " 8   assessment               1318 non-null   int64 \n",
            " 9   pathology                1318 non-null   object\n",
            " 10  subtlety                 1318 non-null   int64 \n",
            " 11  image file path          1318 non-null   object\n",
            " 12  cropped image file path  1318 non-null   object\n",
            " 13  ROI mask file path       1318 non-null   object\n",
            "dtypes: int64(4), object(10)\n",
            "memory usage: 144.3+ KB\n"
          ]
        }
      ]
    },
    {
      "cell_type": "code",
      "source": [
        "data_2.describe()"
      ],
      "metadata": {
        "execution": {
          "iopub.status.busy": "2023-02-22T16:14:16.940098Z",
          "iopub.execute_input": "2023-02-22T16:14:16.940536Z",
          "iopub.status.idle": "2023-02-22T16:14:16.966929Z",
          "shell.execute_reply.started": "2023-02-22T16:14:16.940499Z",
          "shell.execute_reply": "2023-02-22T16:14:16.965852Z"
        },
        "trusted": true,
        "id": "C64loZP7T8Vh",
        "colab": {
          "base_uri": "https://localhost:8080/",
          "height": 300
        },
        "outputId": "7eae76db-dab5-456a-d04e-1091ebc775b2"
      },
      "execution_count": null,
      "outputs": [
        {
          "output_type": "execute_result",
          "data": {
            "text/plain": [
              "       breast_density  abnormality id   assessment     subtlety\n",
              "count     1318.000000     1318.000000  1318.000000  1318.000000\n",
              "mean         2.203338        1.116085     3.504552     3.965857\n",
              "std          0.873774        0.467013     1.414609     1.102032\n",
              "min          1.000000        1.000000     0.000000     0.000000\n",
              "25%          2.000000        1.000000     3.000000     3.000000\n",
              "50%          2.000000        1.000000     4.000000     4.000000\n",
              "75%          3.000000        1.000000     4.000000     5.000000\n",
              "max          4.000000        6.000000     5.000000     5.000000"
            ],
            "text/html": [
              "\n",
              "  <div id=\"df-68f802c2-91e0-461e-8d15-1ba84425c977\">\n",
              "    <div class=\"colab-df-container\">\n",
              "      <div>\n",
              "<style scoped>\n",
              "    .dataframe tbody tr th:only-of-type {\n",
              "        vertical-align: middle;\n",
              "    }\n",
              "\n",
              "    .dataframe tbody tr th {\n",
              "        vertical-align: top;\n",
              "    }\n",
              "\n",
              "    .dataframe thead th {\n",
              "        text-align: right;\n",
              "    }\n",
              "</style>\n",
              "<table border=\"1\" class=\"dataframe\">\n",
              "  <thead>\n",
              "    <tr style=\"text-align: right;\">\n",
              "      <th></th>\n",
              "      <th>breast_density</th>\n",
              "      <th>abnormality id</th>\n",
              "      <th>assessment</th>\n",
              "      <th>subtlety</th>\n",
              "    </tr>\n",
              "  </thead>\n",
              "  <tbody>\n",
              "    <tr>\n",
              "      <th>count</th>\n",
              "      <td>1318.000000</td>\n",
              "      <td>1318.000000</td>\n",
              "      <td>1318.000000</td>\n",
              "      <td>1318.000000</td>\n",
              "    </tr>\n",
              "    <tr>\n",
              "      <th>mean</th>\n",
              "      <td>2.203338</td>\n",
              "      <td>1.116085</td>\n",
              "      <td>3.504552</td>\n",
              "      <td>3.965857</td>\n",
              "    </tr>\n",
              "    <tr>\n",
              "      <th>std</th>\n",
              "      <td>0.873774</td>\n",
              "      <td>0.467013</td>\n",
              "      <td>1.414609</td>\n",
              "      <td>1.102032</td>\n",
              "    </tr>\n",
              "    <tr>\n",
              "      <th>min</th>\n",
              "      <td>1.000000</td>\n",
              "      <td>1.000000</td>\n",
              "      <td>0.000000</td>\n",
              "      <td>0.000000</td>\n",
              "    </tr>\n",
              "    <tr>\n",
              "      <th>25%</th>\n",
              "      <td>2.000000</td>\n",
              "      <td>1.000000</td>\n",
              "      <td>3.000000</td>\n",
              "      <td>3.000000</td>\n",
              "    </tr>\n",
              "    <tr>\n",
              "      <th>50%</th>\n",
              "      <td>2.000000</td>\n",
              "      <td>1.000000</td>\n",
              "      <td>4.000000</td>\n",
              "      <td>4.000000</td>\n",
              "    </tr>\n",
              "    <tr>\n",
              "      <th>75%</th>\n",
              "      <td>3.000000</td>\n",
              "      <td>1.000000</td>\n",
              "      <td>4.000000</td>\n",
              "      <td>5.000000</td>\n",
              "    </tr>\n",
              "    <tr>\n",
              "      <th>max</th>\n",
              "      <td>4.000000</td>\n",
              "      <td>6.000000</td>\n",
              "      <td>5.000000</td>\n",
              "      <td>5.000000</td>\n",
              "    </tr>\n",
              "  </tbody>\n",
              "</table>\n",
              "</div>\n",
              "      <button class=\"colab-df-convert\" onclick=\"convertToInteractive('df-68f802c2-91e0-461e-8d15-1ba84425c977')\"\n",
              "              title=\"Convert this dataframe to an interactive table.\"\n",
              "              style=\"display:none;\">\n",
              "        \n",
              "  <svg xmlns=\"http://www.w3.org/2000/svg\" height=\"24px\"viewBox=\"0 0 24 24\"\n",
              "       width=\"24px\">\n",
              "    <path d=\"M0 0h24v24H0V0z\" fill=\"none\"/>\n",
              "    <path d=\"M18.56 5.44l.94 2.06.94-2.06 2.06-.94-2.06-.94-.94-2.06-.94 2.06-2.06.94zm-11 1L8.5 8.5l.94-2.06 2.06-.94-2.06-.94L8.5 2.5l-.94 2.06-2.06.94zm10 10l.94 2.06.94-2.06 2.06-.94-2.06-.94-.94-2.06-.94 2.06-2.06.94z\"/><path d=\"M17.41 7.96l-1.37-1.37c-.4-.4-.92-.59-1.43-.59-.52 0-1.04.2-1.43.59L10.3 9.45l-7.72 7.72c-.78.78-.78 2.05 0 2.83L4 21.41c.39.39.9.59 1.41.59.51 0 1.02-.2 1.41-.59l7.78-7.78 2.81-2.81c.8-.78.8-2.07 0-2.86zM5.41 20L4 18.59l7.72-7.72 1.47 1.35L5.41 20z\"/>\n",
              "  </svg>\n",
              "      </button>\n",
              "      \n",
              "  <style>\n",
              "    .colab-df-container {\n",
              "      display:flex;\n",
              "      flex-wrap:wrap;\n",
              "      gap: 12px;\n",
              "    }\n",
              "\n",
              "    .colab-df-convert {\n",
              "      background-color: #E8F0FE;\n",
              "      border: none;\n",
              "      border-radius: 50%;\n",
              "      cursor: pointer;\n",
              "      display: none;\n",
              "      fill: #1967D2;\n",
              "      height: 32px;\n",
              "      padding: 0 0 0 0;\n",
              "      width: 32px;\n",
              "    }\n",
              "\n",
              "    .colab-df-convert:hover {\n",
              "      background-color: #E2EBFA;\n",
              "      box-shadow: 0px 1px 2px rgba(60, 64, 67, 0.3), 0px 1px 3px 1px rgba(60, 64, 67, 0.15);\n",
              "      fill: #174EA6;\n",
              "    }\n",
              "\n",
              "    [theme=dark] .colab-df-convert {\n",
              "      background-color: #3B4455;\n",
              "      fill: #D2E3FC;\n",
              "    }\n",
              "\n",
              "    [theme=dark] .colab-df-convert:hover {\n",
              "      background-color: #434B5C;\n",
              "      box-shadow: 0px 1px 3px 1px rgba(0, 0, 0, 0.15);\n",
              "      filter: drop-shadow(0px 1px 2px rgba(0, 0, 0, 0.3));\n",
              "      fill: #FFFFFF;\n",
              "    }\n",
              "  </style>\n",
              "\n",
              "      <script>\n",
              "        const buttonEl =\n",
              "          document.querySelector('#df-68f802c2-91e0-461e-8d15-1ba84425c977 button.colab-df-convert');\n",
              "        buttonEl.style.display =\n",
              "          google.colab.kernel.accessAllowed ? 'block' : 'none';\n",
              "\n",
              "        async function convertToInteractive(key) {\n",
              "          const element = document.querySelector('#df-68f802c2-91e0-461e-8d15-1ba84425c977');\n",
              "          const dataTable =\n",
              "            await google.colab.kernel.invokeFunction('convertToInteractive',\n",
              "                                                     [key], {});\n",
              "          if (!dataTable) return;\n",
              "\n",
              "          const docLinkHtml = 'Like what you see? Visit the ' +\n",
              "            '<a target=\"_blank\" href=https://colab.research.google.com/notebooks/data_table.ipynb>data table notebook</a>'\n",
              "            + ' to learn more about interactive tables.';\n",
              "          element.innerHTML = '';\n",
              "          dataTable['output_type'] = 'display_data';\n",
              "          await google.colab.output.renderOutput(dataTable, element);\n",
              "          const docLink = document.createElement('div');\n",
              "          docLink.innerHTML = docLinkHtml;\n",
              "          element.appendChild(docLink);\n",
              "        }\n",
              "      </script>\n",
              "    </div>\n",
              "  </div>\n",
              "  "
            ]
          },
          "metadata": {},
          "execution_count": 26
        }
      ]
    },
    {
      "cell_type": "markdown",
      "source": [
        "## Data Preprocessing"
      ],
      "metadata": {
        "id": "ZI_bzOjrVHlg"
      }
    },
    {
      "cell_type": "code",
      "source": [
        "dicom_cleaning_data = dicom_data.copy()\n",
        "dicom_cleaning_data.head()"
      ],
      "metadata": {
        "execution": {
          "iopub.status.busy": "2023-02-22T16:14:21.273874Z",
          "iopub.execute_input": "2023-02-22T16:14:21.27429Z",
          "iopub.status.idle": "2023-02-22T16:14:21.304481Z",
          "shell.execute_reply.started": "2023-02-22T16:14:21.274259Z",
          "shell.execute_reply": "2023-02-22T16:14:21.303367Z"
        },
        "trusted": true,
        "id": "Hd7ncbO4T8Vi",
        "colab": {
          "base_uri": "https://localhost:8080/",
          "height": 386
        },
        "outputId": "708fdca2-7cf3-4afe-9261-cb900cddac33"
      },
      "execution_count": null,
      "outputs": [
        {
          "output_type": "execute_result",
          "data": {
            "text/plain": [
              "                                           file_path  \\\n",
              "0  CBIS-DDSM/dicom/1.3.6.1.4.1.9590.100.1.2.12930...   \n",
              "1  CBIS-DDSM/dicom/1.3.6.1.4.1.9590.100.1.2.24838...   \n",
              "2  CBIS-DDSM/dicom/1.3.6.1.4.1.9590.100.1.2.26721...   \n",
              "3  CBIS-DDSM/dicom/1.3.6.1.4.1.9590.100.1.2.38118...   \n",
              "4  CBIS-DDSM/dicom/1.3.6.1.4.1.9590.100.1.2.38118...   \n",
              "\n",
              "                                          image_path  AccessionNumber  \\\n",
              "0  CBIS-DDSM/jpeg/1.3.6.1.4.1.9590.100.1.2.129308...              NaN   \n",
              "1  CBIS-DDSM/jpeg/1.3.6.1.4.1.9590.100.1.2.248386...              NaN   \n",
              "2  CBIS-DDSM/jpeg/1.3.6.1.4.1.9590.100.1.2.267213...              NaN   \n",
              "3  CBIS-DDSM/jpeg/1.3.6.1.4.1.9590.100.1.2.381187...              NaN   \n",
              "4  CBIS-DDSM/jpeg/1.3.6.1.4.1.9590.100.1.2.381187...              NaN   \n",
              "\n",
              "   BitsAllocated  BitsStored BodyPartExamined  Columns  ContentDate  \\\n",
              "0             16          16           BREAST      351     20160426   \n",
              "1             16          16           BREAST     3526     20160426   \n",
              "2             16          16           BREAST     1546     20160503   \n",
              "3             16          16           BREAST       97     20160503   \n",
              "4              8           8      Left Breast     3104     20160503   \n",
              "\n",
              "   ContentTime ConversionType  ...  \\\n",
              "0   131732.685            WSD  ...   \n",
              "1   143829.101            WSD  ...   \n",
              "2   111956.298            WSD  ...   \n",
              "3   115347.770            WSD  ...   \n",
              "4   115347.770            WSD  ...   \n",
              "\n",
              "   SecondaryCaptureDeviceManufacturerModelName      SeriesDescription  \\\n",
              "0                                       MATLAB         cropped images   \n",
              "1                                       MATLAB  full mammogram images   \n",
              "2                                       MATLAB  full mammogram images   \n",
              "3                                       MATLAB         cropped images   \n",
              "4                                       MATLAB                    NaN   \n",
              "\n",
              "                                   SeriesInstanceUID SeriesNumber  \\\n",
              "0  1.3.6.1.4.1.9590.100.1.2.129308726812851964007...            1   \n",
              "1  1.3.6.1.4.1.9590.100.1.2.248386742010678582309...            1   \n",
              "2  1.3.6.1.4.1.9590.100.1.2.267213171011171858918...            1   \n",
              "3  1.3.6.1.4.1.9590.100.1.2.381187369611524586537...            1   \n",
              "4  1.3.6.1.4.1.9590.100.1.2.381187369611524586537...            1   \n",
              "\n",
              "  SmallestImagePixelValue  SpecificCharacterSet   StudyDate StudyID  \\\n",
              "0                   23078            ISO_IR 100  20160720.0    DDSM   \n",
              "1                       0            ISO_IR 100  20160720.0    DDSM   \n",
              "2                       0            ISO_IR 100  20160807.0    DDSM   \n",
              "3                   32298            ISO_IR 100  20170829.0    DDSM   \n",
              "4                       0            ISO_IR 100         NaN    DDSM   \n",
              "\n",
              "                                    StudyInstanceUID  StudyTime  \n",
              "0  1.3.6.1.4.1.9590.100.1.2.271867287611061855725...   214951.0  \n",
              "1  1.3.6.1.4.1.9590.100.1.2.161516517311681906612...   193426.0  \n",
              "2  1.3.6.1.4.1.9590.100.1.2.291043622711253836701...   161814.0  \n",
              "3  1.3.6.1.4.1.9590.100.1.2.335006093711888937440...   180109.0  \n",
              "4  1.3.6.1.4.1.9590.100.1.2.335006093711888937440...        NaN  \n",
              "\n",
              "[5 rows x 38 columns]"
            ],
            "text/html": [
              "\n",
              "  <div id=\"df-bf347649-bb7e-42bd-99d6-1b24bb1397f7\">\n",
              "    <div class=\"colab-df-container\">\n",
              "      <div>\n",
              "<style scoped>\n",
              "    .dataframe tbody tr th:only-of-type {\n",
              "        vertical-align: middle;\n",
              "    }\n",
              "\n",
              "    .dataframe tbody tr th {\n",
              "        vertical-align: top;\n",
              "    }\n",
              "\n",
              "    .dataframe thead th {\n",
              "        text-align: right;\n",
              "    }\n",
              "</style>\n",
              "<table border=\"1\" class=\"dataframe\">\n",
              "  <thead>\n",
              "    <tr style=\"text-align: right;\">\n",
              "      <th></th>\n",
              "      <th>file_path</th>\n",
              "      <th>image_path</th>\n",
              "      <th>AccessionNumber</th>\n",
              "      <th>BitsAllocated</th>\n",
              "      <th>BitsStored</th>\n",
              "      <th>BodyPartExamined</th>\n",
              "      <th>Columns</th>\n",
              "      <th>ContentDate</th>\n",
              "      <th>ContentTime</th>\n",
              "      <th>ConversionType</th>\n",
              "      <th>...</th>\n",
              "      <th>SecondaryCaptureDeviceManufacturerModelName</th>\n",
              "      <th>SeriesDescription</th>\n",
              "      <th>SeriesInstanceUID</th>\n",
              "      <th>SeriesNumber</th>\n",
              "      <th>SmallestImagePixelValue</th>\n",
              "      <th>SpecificCharacterSet</th>\n",
              "      <th>StudyDate</th>\n",
              "      <th>StudyID</th>\n",
              "      <th>StudyInstanceUID</th>\n",
              "      <th>StudyTime</th>\n",
              "    </tr>\n",
              "  </thead>\n",
              "  <tbody>\n",
              "    <tr>\n",
              "      <th>0</th>\n",
              "      <td>CBIS-DDSM/dicom/1.3.6.1.4.1.9590.100.1.2.12930...</td>\n",
              "      <td>CBIS-DDSM/jpeg/1.3.6.1.4.1.9590.100.1.2.129308...</td>\n",
              "      <td>NaN</td>\n",
              "      <td>16</td>\n",
              "      <td>16</td>\n",
              "      <td>BREAST</td>\n",
              "      <td>351</td>\n",
              "      <td>20160426</td>\n",
              "      <td>131732.685</td>\n",
              "      <td>WSD</td>\n",
              "      <td>...</td>\n",
              "      <td>MATLAB</td>\n",
              "      <td>cropped images</td>\n",
              "      <td>1.3.6.1.4.1.9590.100.1.2.129308726812851964007...</td>\n",
              "      <td>1</td>\n",
              "      <td>23078</td>\n",
              "      <td>ISO_IR 100</td>\n",
              "      <td>20160720.0</td>\n",
              "      <td>DDSM</td>\n",
              "      <td>1.3.6.1.4.1.9590.100.1.2.271867287611061855725...</td>\n",
              "      <td>214951.0</td>\n",
              "    </tr>\n",
              "    <tr>\n",
              "      <th>1</th>\n",
              "      <td>CBIS-DDSM/dicom/1.3.6.1.4.1.9590.100.1.2.24838...</td>\n",
              "      <td>CBIS-DDSM/jpeg/1.3.6.1.4.1.9590.100.1.2.248386...</td>\n",
              "      <td>NaN</td>\n",
              "      <td>16</td>\n",
              "      <td>16</td>\n",
              "      <td>BREAST</td>\n",
              "      <td>3526</td>\n",
              "      <td>20160426</td>\n",
              "      <td>143829.101</td>\n",
              "      <td>WSD</td>\n",
              "      <td>...</td>\n",
              "      <td>MATLAB</td>\n",
              "      <td>full mammogram images</td>\n",
              "      <td>1.3.6.1.4.1.9590.100.1.2.248386742010678582309...</td>\n",
              "      <td>1</td>\n",
              "      <td>0</td>\n",
              "      <td>ISO_IR 100</td>\n",
              "      <td>20160720.0</td>\n",
              "      <td>DDSM</td>\n",
              "      <td>1.3.6.1.4.1.9590.100.1.2.161516517311681906612...</td>\n",
              "      <td>193426.0</td>\n",
              "    </tr>\n",
              "    <tr>\n",
              "      <th>2</th>\n",
              "      <td>CBIS-DDSM/dicom/1.3.6.1.4.1.9590.100.1.2.26721...</td>\n",
              "      <td>CBIS-DDSM/jpeg/1.3.6.1.4.1.9590.100.1.2.267213...</td>\n",
              "      <td>NaN</td>\n",
              "      <td>16</td>\n",
              "      <td>16</td>\n",
              "      <td>BREAST</td>\n",
              "      <td>1546</td>\n",
              "      <td>20160503</td>\n",
              "      <td>111956.298</td>\n",
              "      <td>WSD</td>\n",
              "      <td>...</td>\n",
              "      <td>MATLAB</td>\n",
              "      <td>full mammogram images</td>\n",
              "      <td>1.3.6.1.4.1.9590.100.1.2.267213171011171858918...</td>\n",
              "      <td>1</td>\n",
              "      <td>0</td>\n",
              "      <td>ISO_IR 100</td>\n",
              "      <td>20160807.0</td>\n",
              "      <td>DDSM</td>\n",
              "      <td>1.3.6.1.4.1.9590.100.1.2.291043622711253836701...</td>\n",
              "      <td>161814.0</td>\n",
              "    </tr>\n",
              "    <tr>\n",
              "      <th>3</th>\n",
              "      <td>CBIS-DDSM/dicom/1.3.6.1.4.1.9590.100.1.2.38118...</td>\n",
              "      <td>CBIS-DDSM/jpeg/1.3.6.1.4.1.9590.100.1.2.381187...</td>\n",
              "      <td>NaN</td>\n",
              "      <td>16</td>\n",
              "      <td>16</td>\n",
              "      <td>BREAST</td>\n",
              "      <td>97</td>\n",
              "      <td>20160503</td>\n",
              "      <td>115347.770</td>\n",
              "      <td>WSD</td>\n",
              "      <td>...</td>\n",
              "      <td>MATLAB</td>\n",
              "      <td>cropped images</td>\n",
              "      <td>1.3.6.1.4.1.9590.100.1.2.381187369611524586537...</td>\n",
              "      <td>1</td>\n",
              "      <td>32298</td>\n",
              "      <td>ISO_IR 100</td>\n",
              "      <td>20170829.0</td>\n",
              "      <td>DDSM</td>\n",
              "      <td>1.3.6.1.4.1.9590.100.1.2.335006093711888937440...</td>\n",
              "      <td>180109.0</td>\n",
              "    </tr>\n",
              "    <tr>\n",
              "      <th>4</th>\n",
              "      <td>CBIS-DDSM/dicom/1.3.6.1.4.1.9590.100.1.2.38118...</td>\n",
              "      <td>CBIS-DDSM/jpeg/1.3.6.1.4.1.9590.100.1.2.381187...</td>\n",
              "      <td>NaN</td>\n",
              "      <td>8</td>\n",
              "      <td>8</td>\n",
              "      <td>Left Breast</td>\n",
              "      <td>3104</td>\n",
              "      <td>20160503</td>\n",
              "      <td>115347.770</td>\n",
              "      <td>WSD</td>\n",
              "      <td>...</td>\n",
              "      <td>MATLAB</td>\n",
              "      <td>NaN</td>\n",
              "      <td>1.3.6.1.4.1.9590.100.1.2.381187369611524586537...</td>\n",
              "      <td>1</td>\n",
              "      <td>0</td>\n",
              "      <td>ISO_IR 100</td>\n",
              "      <td>NaN</td>\n",
              "      <td>DDSM</td>\n",
              "      <td>1.3.6.1.4.1.9590.100.1.2.335006093711888937440...</td>\n",
              "      <td>NaN</td>\n",
              "    </tr>\n",
              "  </tbody>\n",
              "</table>\n",
              "<p>5 rows × 38 columns</p>\n",
              "</div>\n",
              "      <button class=\"colab-df-convert\" onclick=\"convertToInteractive('df-bf347649-bb7e-42bd-99d6-1b24bb1397f7')\"\n",
              "              title=\"Convert this dataframe to an interactive table.\"\n",
              "              style=\"display:none;\">\n",
              "        \n",
              "  <svg xmlns=\"http://www.w3.org/2000/svg\" height=\"24px\"viewBox=\"0 0 24 24\"\n",
              "       width=\"24px\">\n",
              "    <path d=\"M0 0h24v24H0V0z\" fill=\"none\"/>\n",
              "    <path d=\"M18.56 5.44l.94 2.06.94-2.06 2.06-.94-2.06-.94-.94-2.06-.94 2.06-2.06.94zm-11 1L8.5 8.5l.94-2.06 2.06-.94-2.06-.94L8.5 2.5l-.94 2.06-2.06.94zm10 10l.94 2.06.94-2.06 2.06-.94-2.06-.94-.94-2.06-.94 2.06-2.06.94z\"/><path d=\"M17.41 7.96l-1.37-1.37c-.4-.4-.92-.59-1.43-.59-.52 0-1.04.2-1.43.59L10.3 9.45l-7.72 7.72c-.78.78-.78 2.05 0 2.83L4 21.41c.39.39.9.59 1.41.59.51 0 1.02-.2 1.41-.59l7.78-7.78 2.81-2.81c.8-.78.8-2.07 0-2.86zM5.41 20L4 18.59l7.72-7.72 1.47 1.35L5.41 20z\"/>\n",
              "  </svg>\n",
              "      </button>\n",
              "      \n",
              "  <style>\n",
              "    .colab-df-container {\n",
              "      display:flex;\n",
              "      flex-wrap:wrap;\n",
              "      gap: 12px;\n",
              "    }\n",
              "\n",
              "    .colab-df-convert {\n",
              "      background-color: #E8F0FE;\n",
              "      border: none;\n",
              "      border-radius: 50%;\n",
              "      cursor: pointer;\n",
              "      display: none;\n",
              "      fill: #1967D2;\n",
              "      height: 32px;\n",
              "      padding: 0 0 0 0;\n",
              "      width: 32px;\n",
              "    }\n",
              "\n",
              "    .colab-df-convert:hover {\n",
              "      background-color: #E2EBFA;\n",
              "      box-shadow: 0px 1px 2px rgba(60, 64, 67, 0.3), 0px 1px 3px 1px rgba(60, 64, 67, 0.15);\n",
              "      fill: #174EA6;\n",
              "    }\n",
              "\n",
              "    [theme=dark] .colab-df-convert {\n",
              "      background-color: #3B4455;\n",
              "      fill: #D2E3FC;\n",
              "    }\n",
              "\n",
              "    [theme=dark] .colab-df-convert:hover {\n",
              "      background-color: #434B5C;\n",
              "      box-shadow: 0px 1px 3px 1px rgba(0, 0, 0, 0.15);\n",
              "      filter: drop-shadow(0px 1px 2px rgba(0, 0, 0, 0.3));\n",
              "      fill: #FFFFFF;\n",
              "    }\n",
              "  </style>\n",
              "\n",
              "      <script>\n",
              "        const buttonEl =\n",
              "          document.querySelector('#df-bf347649-bb7e-42bd-99d6-1b24bb1397f7 button.colab-df-convert');\n",
              "        buttonEl.style.display =\n",
              "          google.colab.kernel.accessAllowed ? 'block' : 'none';\n",
              "\n",
              "        async function convertToInteractive(key) {\n",
              "          const element = document.querySelector('#df-bf347649-bb7e-42bd-99d6-1b24bb1397f7');\n",
              "          const dataTable =\n",
              "            await google.colab.kernel.invokeFunction('convertToInteractive',\n",
              "                                                     [key], {});\n",
              "          if (!dataTable) return;\n",
              "\n",
              "          const docLinkHtml = 'Like what you see? Visit the ' +\n",
              "            '<a target=\"_blank\" href=https://colab.research.google.com/notebooks/data_table.ipynb>data table notebook</a>'\n",
              "            + ' to learn more about interactive tables.';\n",
              "          element.innerHTML = '';\n",
              "          dataTable['output_type'] = 'display_data';\n",
              "          await google.colab.output.renderOutput(dataTable, element);\n",
              "          const docLink = document.createElement('div');\n",
              "          docLink.innerHTML = docLinkHtml;\n",
              "          element.appendChild(docLink);\n",
              "        }\n",
              "      </script>\n",
              "    </div>\n",
              "  </div>\n",
              "  "
            ]
          },
          "metadata": {},
          "execution_count": 27
        }
      ]
    },
    {
      "cell_type": "code",
      "source": [
        "dicom_cleaning_data.drop(['PatientBirthDate','AccessionNumber','Columns','ContentDate','ContentTime','PatientSex','PatientBirthDate',\n",
        "                                                'ReferringPhysicianName','Rows','SOPClassUID','SOPInstanceUID',\n",
        "                                                'StudyDate','StudyID','StudyInstanceUID','StudyTime','InstanceNumber','SeriesInstanceUID','SeriesNumber'],axis =1, inplace=True)"
      ],
      "metadata": {
        "execution": {
          "iopub.status.busy": "2023-02-22T16:14:36.62684Z",
          "iopub.execute_input": "2023-02-22T16:14:36.627244Z",
          "iopub.status.idle": "2023-02-22T16:14:36.637101Z",
          "shell.execute_reply.started": "2023-02-22T16:14:36.627214Z",
          "shell.execute_reply": "2023-02-22T16:14:36.636178Z"
        },
        "trusted": true,
        "id": "hWhR0dcST8Vi"
      },
      "execution_count": null,
      "outputs": []
    },
    {
      "cell_type": "code",
      "source": [
        "dicom_cleaning_data.info()"
      ],
      "metadata": {
        "execution": {
          "iopub.status.busy": "2023-02-22T16:14:41.721746Z",
          "iopub.execute_input": "2023-02-22T16:14:41.722479Z",
          "iopub.status.idle": "2023-02-22T16:14:41.742771Z",
          "shell.execute_reply.started": "2023-02-22T16:14:41.722444Z",
          "shell.execute_reply": "2023-02-22T16:14:41.741422Z"
        },
        "trusted": true,
        "id": "icxUnoUzT8Vi",
        "colab": {
          "base_uri": "https://localhost:8080/"
        },
        "outputId": "00b1a685-9a72-4d2b-83e9-b302b35bb719"
      },
      "execution_count": null,
      "outputs": [
        {
          "output_type": "stream",
          "name": "stdout",
          "text": [
            "<class 'pandas.core.frame.DataFrame'>\n",
            "RangeIndex: 10237 entries, 0 to 10236\n",
            "Data columns (total 21 columns):\n",
            " #   Column                                       Non-Null Count  Dtype \n",
            "---  ------                                       --------------  ----- \n",
            " 0   file_path                                    10237 non-null  object\n",
            " 1   image_path                                   10237 non-null  object\n",
            " 2   BitsAllocated                                10237 non-null  int64 \n",
            " 3   BitsStored                                   10237 non-null  int64 \n",
            " 4   BodyPartExamined                             10237 non-null  object\n",
            " 5   ConversionType                               10237 non-null  object\n",
            " 6   HighBit                                      10237 non-null  int64 \n",
            " 7   LargestImagePixelValue                       10237 non-null  int64 \n",
            " 8   Laterality                                   9671 non-null   object\n",
            " 9   Modality                                     10237 non-null  object\n",
            " 10  PatientID                                    10237 non-null  object\n",
            " 11  PatientName                                  10237 non-null  object\n",
            " 12  PatientOrientation                           10237 non-null  object\n",
            " 13  PhotometricInterpretation                    10237 non-null  object\n",
            " 14  PixelRepresentation                          10237 non-null  int64 \n",
            " 15  SamplesPerPixel                              10237 non-null  int64 \n",
            " 16  SecondaryCaptureDeviceManufacturer           10237 non-null  object\n",
            " 17  SecondaryCaptureDeviceManufacturerModelName  10237 non-null  object\n",
            " 18  SeriesDescription                            9671 non-null   object\n",
            " 19  SmallestImagePixelValue                      10237 non-null  int64 \n",
            " 20  SpecificCharacterSet                         10237 non-null  object\n",
            "dtypes: int64(7), object(14)\n",
            "memory usage: 1.6+ MB\n"
          ]
        }
      ]
    },
    {
      "cell_type": "code",
      "source": [
        "dicom_cleaning_data.isna().sum()"
      ],
      "metadata": {
        "execution": {
          "iopub.status.busy": "2023-02-22T16:14:49.518106Z",
          "iopub.execute_input": "2023-02-22T16:14:49.518487Z",
          "iopub.status.idle": "2023-02-22T16:14:49.535286Z",
          "shell.execute_reply.started": "2023-02-22T16:14:49.518456Z",
          "shell.execute_reply": "2023-02-22T16:14:49.533979Z"
        },
        "trusted": true,
        "id": "fjT7vmXjT8Vi",
        "colab": {
          "base_uri": "https://localhost:8080/"
        },
        "outputId": "7fbbbc71-0ea8-4f7f-e645-2e1203ece862"
      },
      "execution_count": null,
      "outputs": [
        {
          "output_type": "execute_result",
          "data": {
            "text/plain": [
              "file_path                                        0\n",
              "image_path                                       0\n",
              "BitsAllocated                                    0\n",
              "BitsStored                                       0\n",
              "BodyPartExamined                                 0\n",
              "ConversionType                                   0\n",
              "HighBit                                          0\n",
              "LargestImagePixelValue                           0\n",
              "Laterality                                     566\n",
              "Modality                                         0\n",
              "PatientID                                        0\n",
              "PatientName                                      0\n",
              "PatientOrientation                               0\n",
              "PhotometricInterpretation                        0\n",
              "PixelRepresentation                              0\n",
              "SamplesPerPixel                                  0\n",
              "SecondaryCaptureDeviceManufacturer               0\n",
              "SecondaryCaptureDeviceManufacturerModelName      0\n",
              "SeriesDescription                              566\n",
              "SmallestImagePixelValue                          0\n",
              "SpecificCharacterSet                             0\n",
              "dtype: int64"
            ]
          },
          "metadata": {},
          "execution_count": 30
        }
      ]
    },
    {
      "cell_type": "code",
      "source": [
        "dicom_cleaning_data['SeriesDescription'].fillna(method = 'bfill', axis = 0, inplace=True)"
      ],
      "metadata": {
        "execution": {
          "iopub.status.busy": "2023-02-22T16:14:55.156934Z",
          "iopub.execute_input": "2023-02-22T16:14:55.157332Z",
          "iopub.status.idle": "2023-02-22T16:14:55.170161Z",
          "shell.execute_reply.started": "2023-02-22T16:14:55.157303Z",
          "shell.execute_reply": "2023-02-22T16:14:55.168786Z"
        },
        "trusted": true,
        "id": "0KlCroB8T8Vi"
      },
      "execution_count": null,
      "outputs": []
    },
    {
      "cell_type": "code",
      "source": [
        "dicom_cleaning_data['Laterality'].fillna(method = 'bfill', axis = 0, inplace=True)"
      ],
      "metadata": {
        "execution": {
          "iopub.status.busy": "2023-02-22T16:14:58.084527Z",
          "iopub.execute_input": "2023-02-22T16:14:58.084933Z",
          "iopub.status.idle": "2023-02-22T16:14:58.091736Z",
          "shell.execute_reply.started": "2023-02-22T16:14:58.084902Z",
          "shell.execute_reply": "2023-02-22T16:14:58.090519Z"
        },
        "trusted": true,
        "id": "ylndKId5T8Vi"
      },
      "execution_count": null,
      "outputs": []
    },
    {
      "cell_type": "code",
      "source": [
        "dicom_cleaning_data.isna().sum()"
      ],
      "metadata": {
        "execution": {
          "iopub.status.busy": "2023-02-22T16:15:01.61842Z",
          "iopub.execute_input": "2023-02-22T16:15:01.619223Z",
          "iopub.status.idle": "2023-02-22T16:15:01.635553Z",
          "shell.execute_reply.started": "2023-02-22T16:15:01.619178Z",
          "shell.execute_reply": "2023-02-22T16:15:01.634617Z"
        },
        "trusted": true,
        "id": "opdIuJB6T8Vi",
        "colab": {
          "base_uri": "https://localhost:8080/"
        },
        "outputId": "de25c2a6-e101-4a10-e758-dc0e7881d01a"
      },
      "execution_count": null,
      "outputs": [
        {
          "output_type": "execute_result",
          "data": {
            "text/plain": [
              "file_path                                      0\n",
              "image_path                                     0\n",
              "BitsAllocated                                  0\n",
              "BitsStored                                     0\n",
              "BodyPartExamined                               0\n",
              "ConversionType                                 0\n",
              "HighBit                                        0\n",
              "LargestImagePixelValue                         0\n",
              "Laterality                                     0\n",
              "Modality                                       0\n",
              "PatientID                                      0\n",
              "PatientName                                    0\n",
              "PatientOrientation                             0\n",
              "PhotometricInterpretation                      0\n",
              "PixelRepresentation                            0\n",
              "SamplesPerPixel                                0\n",
              "SecondaryCaptureDeviceManufacturer             0\n",
              "SecondaryCaptureDeviceManufacturerModelName    0\n",
              "SeriesDescription                              0\n",
              "SmallestImagePixelValue                        0\n",
              "SpecificCharacterSet                           0\n",
              "dtype: int64"
            ]
          },
          "metadata": {},
          "execution_count": 33
        }
      ]
    },
    {
      "cell_type": "code",
      "source": [
        "Data_cleaning_1 = data_1.copy()"
      ],
      "metadata": {
        "execution": {
          "iopub.status.busy": "2023-02-22T16:15:06.403515Z",
          "iopub.execute_input": "2023-02-22T16:15:06.403995Z",
          "iopub.status.idle": "2023-02-22T16:15:06.40956Z",
          "shell.execute_reply.started": "2023-02-22T16:15:06.403959Z",
          "shell.execute_reply": "2023-02-22T16:15:06.408369Z"
        },
        "trusted": true,
        "id": "U07YgMpvT8Vi"
      },
      "execution_count": null,
      "outputs": []
    },
    {
      "cell_type": "code",
      "source": [
        "Data_cleaning_1 = Data_cleaning_1.rename(columns={'calc type':'calc_type'})"
      ],
      "metadata": {
        "execution": {
          "iopub.status.busy": "2023-02-22T16:15:10.449779Z",
          "iopub.execute_input": "2023-02-22T16:15:10.45022Z",
          "iopub.status.idle": "2023-02-22T16:15:10.457089Z",
          "shell.execute_reply.started": "2023-02-22T16:15:10.450189Z",
          "shell.execute_reply": "2023-02-22T16:15:10.455898Z"
        },
        "trusted": true,
        "id": "CvlDJU_WT8Vi"
      },
      "execution_count": null,
      "outputs": []
    },
    {
      "cell_type": "code",
      "source": [
        "Data_cleaning_1 = Data_cleaning_1.rename(columns={'calc distribution':'calc_distribution'})"
      ],
      "metadata": {
        "execution": {
          "iopub.status.busy": "2023-02-22T16:15:13.691712Z",
          "iopub.execute_input": "2023-02-22T16:15:13.69213Z",
          "iopub.status.idle": "2023-02-22T16:15:13.69901Z",
          "shell.execute_reply.started": "2023-02-22T16:15:13.692099Z",
          "shell.execute_reply": "2023-02-22T16:15:13.697927Z"
        },
        "trusted": true,
        "id": "JcGKD9-hT8Vi"
      },
      "execution_count": null,
      "outputs": []
    },
    {
      "cell_type": "code",
      "source": [
        "Data_cleaning_1 = Data_cleaning_1.rename(columns={'image view':'image_view'})"
      ],
      "metadata": {
        "execution": {
          "iopub.status.busy": "2023-02-22T16:15:15.390468Z",
          "iopub.execute_input": "2023-02-22T16:15:15.390901Z",
          "iopub.status.idle": "2023-02-22T16:15:15.397366Z",
          "shell.execute_reply.started": "2023-02-22T16:15:15.390868Z",
          "shell.execute_reply": "2023-02-22T16:15:15.396157Z"
        },
        "trusted": true,
        "id": "ON5ETJpQT8Vj"
      },
      "execution_count": null,
      "outputs": []
    },
    {
      "cell_type": "code",
      "source": [
        "Data_cleaning_1 = Data_cleaning_1.rename(columns={'left or right breast':'left_or_right_breast'})"
      ],
      "metadata": {
        "execution": {
          "iopub.status.busy": "2023-02-22T16:15:16.272839Z",
          "iopub.execute_input": "2023-02-22T16:15:16.273237Z",
          "iopub.status.idle": "2023-02-22T16:15:16.2793Z",
          "shell.execute_reply.started": "2023-02-22T16:15:16.273205Z",
          "shell.execute_reply": "2023-02-22T16:15:16.278237Z"
        },
        "trusted": true,
        "id": "cmYIsNL7T8Vj"
      },
      "execution_count": null,
      "outputs": []
    },
    {
      "cell_type": "code",
      "source": [
        "Data_cleaning_1 = Data_cleaning_1.rename(columns={'breast density':'breast_density'})"
      ],
      "metadata": {
        "execution": {
          "iopub.status.busy": "2023-02-22T16:15:18.334763Z",
          "iopub.execute_input": "2023-02-22T16:15:18.335159Z",
          "iopub.status.idle": "2023-02-22T16:15:18.34178Z",
          "shell.execute_reply.started": "2023-02-22T16:15:18.335127Z",
          "shell.execute_reply": "2023-02-22T16:15:18.340513Z"
        },
        "trusted": true,
        "id": "0p1Z85OrT8Vj"
      },
      "execution_count": null,
      "outputs": []
    },
    {
      "cell_type": "code",
      "source": [
        "Data_cleaning_1 = Data_cleaning_1.rename(columns={'abnormality type':'abnormality_type'})"
      ],
      "metadata": {
        "execution": {
          "iopub.status.busy": "2023-02-22T16:15:19.101945Z",
          "iopub.execute_input": "2023-02-22T16:15:19.102363Z",
          "iopub.status.idle": "2023-02-22T16:15:19.108331Z",
          "shell.execute_reply.started": "2023-02-22T16:15:19.102331Z",
          "shell.execute_reply": "2023-02-22T16:15:19.107088Z"
        },
        "trusted": true,
        "id": "Cg6myK_XT8Vj"
      },
      "execution_count": null,
      "outputs": []
    },
    {
      "cell_type": "code",
      "source": [
        "Data_cleaning_1['pathology'] = Data_cleaning_1['pathology'].astype('category')"
      ],
      "metadata": {
        "execution": {
          "iopub.status.busy": "2023-02-22T16:15:19.57524Z",
          "iopub.execute_input": "2023-02-22T16:15:19.575699Z",
          "iopub.status.idle": "2023-02-22T16:15:19.584163Z",
          "shell.execute_reply.started": "2023-02-22T16:15:19.575658Z",
          "shell.execute_reply": "2023-02-22T16:15:19.582886Z"
        },
        "trusted": true,
        "id": "zQccIGFoT8Vj"
      },
      "execution_count": null,
      "outputs": []
    },
    {
      "cell_type": "code",
      "source": [
        "Data_cleaning_1['calc_type'] = Data_cleaning_1['calc_type'].astype('category')"
      ],
      "metadata": {
        "execution": {
          "iopub.status.busy": "2023-02-22T16:15:21.389207Z",
          "iopub.execute_input": "2023-02-22T16:15:21.389991Z",
          "iopub.status.idle": "2023-02-22T16:15:21.397449Z",
          "shell.execute_reply.started": "2023-02-22T16:15:21.38994Z",
          "shell.execute_reply": "2023-02-22T16:15:21.396152Z"
        },
        "trusted": true,
        "id": "PZDlJXPlT8Vn"
      },
      "execution_count": null,
      "outputs": []
    },
    {
      "cell_type": "code",
      "source": [
        "Data_cleaning_1['calc_distribution'] = Data_cleaning_1['calc_distribution'].astype('category')"
      ],
      "metadata": {
        "execution": {
          "iopub.status.busy": "2023-02-22T16:15:22.044809Z",
          "iopub.execute_input": "2023-02-22T16:15:22.045645Z",
          "iopub.status.idle": "2023-02-22T16:15:22.052032Z",
          "shell.execute_reply.started": "2023-02-22T16:15:22.045592Z",
          "shell.execute_reply": "2023-02-22T16:15:22.050946Z"
        },
        "trusted": true,
        "id": "E-nQqlhYT8Vn"
      },
      "execution_count": null,
      "outputs": []
    },
    {
      "cell_type": "code",
      "source": [
        "Data_cleaning_1['abnormality_type'] = Data_cleaning_1['abnormality_type'].astype('category')"
      ],
      "metadata": {
        "execution": {
          "iopub.status.busy": "2023-02-22T16:15:22.694316Z",
          "iopub.execute_input": "2023-02-22T16:15:22.694778Z",
          "iopub.status.idle": "2023-02-22T16:15:22.703014Z",
          "shell.execute_reply.started": "2023-02-22T16:15:22.694739Z",
          "shell.execute_reply": "2023-02-22T16:15:22.701696Z"
        },
        "trusted": true,
        "id": "9ZFGy9ngT8Vn"
      },
      "execution_count": null,
      "outputs": []
    },
    {
      "cell_type": "code",
      "source": [
        "Data_cleaning_1['image_view'] = Data_cleaning_1['image_view'].astype('category')"
      ],
      "metadata": {
        "execution": {
          "iopub.status.busy": "2023-02-22T16:15:23.551655Z",
          "iopub.execute_input": "2023-02-22T16:15:23.552108Z",
          "iopub.status.idle": "2023-02-22T16:15:23.559143Z",
          "shell.execute_reply.started": "2023-02-22T16:15:23.552063Z",
          "shell.execute_reply": "2023-02-22T16:15:23.557769Z"
        },
        "trusted": true,
        "id": "h97IFQr5T8Vo"
      },
      "execution_count": null,
      "outputs": []
    },
    {
      "cell_type": "code",
      "source": [
        "Data_cleaning_1['left_or_right_breast'] = Data_cleaning_1['left_or_right_breast'].astype('category')"
      ],
      "metadata": {
        "execution": {
          "iopub.status.busy": "2023-02-22T16:15:25.099031Z",
          "iopub.execute_input": "2023-02-22T16:15:25.099456Z",
          "iopub.status.idle": "2023-02-22T16:15:25.107499Z",
          "shell.execute_reply.started": "2023-02-22T16:15:25.099422Z",
          "shell.execute_reply": "2023-02-22T16:15:25.106086Z"
        },
        "trusted": true,
        "id": "biksBG03T8Vo"
      },
      "execution_count": null,
      "outputs": []
    },
    {
      "cell_type": "code",
      "source": [
        "Data_cleaning_1.isna().sum()"
      ],
      "metadata": {
        "execution": {
          "iopub.status.busy": "2023-02-22T16:15:26.166957Z",
          "iopub.execute_input": "2023-02-22T16:15:26.167361Z",
          "iopub.status.idle": "2023-02-22T16:15:26.17889Z",
          "shell.execute_reply.started": "2023-02-22T16:15:26.16733Z",
          "shell.execute_reply": "2023-02-22T16:15:26.17748Z"
        },
        "trusted": true,
        "id": "6irEG5bDT8Vo",
        "colab": {
          "base_uri": "https://localhost:8080/"
        },
        "outputId": "67a6b1bd-79e7-4951-834a-3f8866f908c3"
      },
      "execution_count": null,
      "outputs": [
        {
          "output_type": "execute_result",
          "data": {
            "text/plain": [
              "patient_id                   0\n",
              "breast_density               0\n",
              "left_or_right_breast         0\n",
              "image_view                   0\n",
              "abnormality id               0\n",
              "abnormality_type             0\n",
              "calc_type                   20\n",
              "calc_distribution          376\n",
              "assessment                   0\n",
              "pathology                    0\n",
              "subtlety                     0\n",
              "image file path              0\n",
              "cropped image file path      0\n",
              "ROI mask file path           0\n",
              "dtype: int64"
            ]
          },
          "metadata": {},
          "execution_count": 47
        }
      ]
    },
    {
      "cell_type": "code",
      "source": [
        "Data_cleaning_1['calc_type'].fillna(method = 'bfill', axis = 0, inplace=True)"
      ],
      "metadata": {
        "execution": {
          "iopub.status.busy": "2023-02-22T16:15:29.686635Z",
          "iopub.execute_input": "2023-02-22T16:15:29.687328Z",
          "iopub.status.idle": "2023-02-22T16:15:29.693306Z",
          "shell.execute_reply.started": "2023-02-22T16:15:29.687291Z",
          "shell.execute_reply": "2023-02-22T16:15:29.692187Z"
        },
        "trusted": true,
        "id": "P2gPI-3iT8Vo"
      },
      "execution_count": null,
      "outputs": []
    },
    {
      "cell_type": "code",
      "source": [
        "Data_cleaning_1['calc_distribution'].fillna(method = 'bfill', axis = 0, inplace=True)"
      ],
      "metadata": {
        "execution": {
          "iopub.status.busy": "2023-02-22T16:15:29.996409Z",
          "iopub.execute_input": "2023-02-22T16:15:29.997188Z",
          "iopub.status.idle": "2023-02-22T16:15:30.003409Z",
          "shell.execute_reply.started": "2023-02-22T16:15:29.997118Z",
          "shell.execute_reply": "2023-02-22T16:15:30.00185Z"
        },
        "trusted": true,
        "id": "ItQINdLtT8Vo"
      },
      "execution_count": null,
      "outputs": []
    },
    {
      "cell_type": "code",
      "source": [
        "Data_cleaning_1.isna().sum()"
      ],
      "metadata": {
        "execution": {
          "iopub.status.busy": "2023-02-22T16:15:31.914783Z",
          "iopub.execute_input": "2023-02-22T16:15:31.91517Z",
          "iopub.status.idle": "2023-02-22T16:15:31.927254Z",
          "shell.execute_reply.started": "2023-02-22T16:15:31.91514Z",
          "shell.execute_reply": "2023-02-22T16:15:31.926004Z"
        },
        "trusted": true,
        "id": "CPWlxJH-T8Vo",
        "colab": {
          "base_uri": "https://localhost:8080/"
        },
        "outputId": "cef2021b-1582-43ee-e0aa-c2feee77d149"
      },
      "execution_count": null,
      "outputs": [
        {
          "output_type": "execute_result",
          "data": {
            "text/plain": [
              "patient_id                 0\n",
              "breast_density             0\n",
              "left_or_right_breast       0\n",
              "image_view                 0\n",
              "abnormality id             0\n",
              "abnormality_type           0\n",
              "calc_type                  0\n",
              "calc_distribution          0\n",
              "assessment                 0\n",
              "pathology                  0\n",
              "subtlety                   0\n",
              "image file path            0\n",
              "cropped image file path    0\n",
              "ROI mask file path         0\n",
              "dtype: int64"
            ]
          },
          "metadata": {},
          "execution_count": 50
        }
      ]
    },
    {
      "cell_type": "code",
      "source": [
        "Data_cleaning_1.info()"
      ],
      "metadata": {
        "execution": {
          "iopub.status.busy": "2023-02-22T16:15:32.222372Z",
          "iopub.execute_input": "2023-02-22T16:15:32.222776Z",
          "iopub.status.idle": "2023-02-22T16:15:32.243481Z",
          "shell.execute_reply.started": "2023-02-22T16:15:32.222746Z",
          "shell.execute_reply": "2023-02-22T16:15:32.242222Z"
        },
        "trusted": true,
        "id": "IeY2I3wkT8Vo",
        "colab": {
          "base_uri": "https://localhost:8080/"
        },
        "outputId": "57eb67b4-a88d-487b-8071-7938b9cf33d7"
      },
      "execution_count": null,
      "outputs": [
        {
          "output_type": "stream",
          "name": "stdout",
          "text": [
            "<class 'pandas.core.frame.DataFrame'>\n",
            "RangeIndex: 1546 entries, 0 to 1545\n",
            "Data columns (total 14 columns):\n",
            " #   Column                   Non-Null Count  Dtype   \n",
            "---  ------                   --------------  -----   \n",
            " 0   patient_id               1546 non-null   object  \n",
            " 1   breast_density           1546 non-null   int64   \n",
            " 2   left_or_right_breast     1546 non-null   category\n",
            " 3   image_view               1546 non-null   category\n",
            " 4   abnormality id           1546 non-null   int64   \n",
            " 5   abnormality_type         1546 non-null   category\n",
            " 6   calc_type                1546 non-null   category\n",
            " 7   calc_distribution        1546 non-null   category\n",
            " 8   assessment               1546 non-null   int64   \n",
            " 9   pathology                1546 non-null   category\n",
            " 10  subtlety                 1546 non-null   int64   \n",
            " 11  image file path          1546 non-null   object  \n",
            " 12  cropped image file path  1546 non-null   object  \n",
            " 13  ROI mask file path       1546 non-null   object  \n",
            "dtypes: category(6), int64(4), object(4)\n",
            "memory usage: 108.1+ KB\n"
          ]
        }
      ]
    },
    {
      "cell_type": "code",
      "source": [
        "Data_cleaning_2 = data_2.copy()"
      ],
      "metadata": {
        "execution": {
          "iopub.status.busy": "2023-02-22T16:15:35.863709Z",
          "iopub.execute_input": "2023-02-22T16:15:35.864447Z",
          "iopub.status.idle": "2023-02-22T16:15:35.868707Z",
          "shell.execute_reply.started": "2023-02-22T16:15:35.86441Z",
          "shell.execute_reply": "2023-02-22T16:15:35.867971Z"
        },
        "trusted": true,
        "id": "bDK7_VtWT8Vo"
      },
      "execution_count": null,
      "outputs": []
    },
    {
      "cell_type": "code",
      "source": [
        "Data_cleaning_2 = Data_cleaning_2.rename(columns={'mass shape':'mass_shape'})"
      ],
      "metadata": {
        "execution": {
          "iopub.status.busy": "2023-02-22T16:15:37.213659Z",
          "iopub.execute_input": "2023-02-22T16:15:37.214431Z",
          "iopub.status.idle": "2023-02-22T16:15:37.220641Z",
          "shell.execute_reply.started": "2023-02-22T16:15:37.214384Z",
          "shell.execute_reply": "2023-02-22T16:15:37.219692Z"
        },
        "trusted": true,
        "id": "iO8TUU2OT8Vo"
      },
      "execution_count": null,
      "outputs": []
    },
    {
      "cell_type": "code",
      "source": [
        "Data_cleaning_2 = Data_cleaning_2.rename(columns={'left or right breast':'left_or_right_breast'})"
      ],
      "metadata": {
        "execution": {
          "iopub.status.busy": "2023-02-22T16:15:39.106732Z",
          "iopub.execute_input": "2023-02-22T16:15:39.107474Z",
          "iopub.status.idle": "2023-02-22T16:15:39.113987Z",
          "shell.execute_reply.started": "2023-02-22T16:15:39.107427Z",
          "shell.execute_reply": "2023-02-22T16:15:39.112953Z"
        },
        "trusted": true,
        "id": "GhlF3YEnT8Vo"
      },
      "execution_count": null,
      "outputs": []
    },
    {
      "cell_type": "code",
      "source": [
        "Data_cleaning_2 = Data_cleaning_2.rename(columns={'mass margins':'mass_margins'})"
      ],
      "metadata": {
        "execution": {
          "iopub.status.busy": "2023-02-22T16:15:39.634484Z",
          "iopub.execute_input": "2023-02-22T16:15:39.634912Z",
          "iopub.status.idle": "2023-02-22T16:15:39.64074Z",
          "shell.execute_reply.started": "2023-02-22T16:15:39.634875Z",
          "shell.execute_reply": "2023-02-22T16:15:39.639595Z"
        },
        "trusted": true,
        "id": "0goAlusPT8Vp"
      },
      "execution_count": null,
      "outputs": []
    },
    {
      "cell_type": "code",
      "source": [
        "Data_cleaning_2 = Data_cleaning_2.rename(columns={'image view':'image_view'})"
      ],
      "metadata": {
        "execution": {
          "iopub.status.busy": "2023-02-22T16:15:40.697488Z",
          "iopub.execute_input": "2023-02-22T16:15:40.697936Z",
          "iopub.status.idle": "2023-02-22T16:15:40.705165Z",
          "shell.execute_reply.started": "2023-02-22T16:15:40.697899Z",
          "shell.execute_reply": "2023-02-22T16:15:40.703705Z"
        },
        "trusted": true,
        "id": "oh1spLpFT8Vp"
      },
      "execution_count": null,
      "outputs": []
    },
    {
      "cell_type": "code",
      "source": [
        "Data_cleaning_2 = Data_cleaning_2.rename(columns={'abnormality type':'abnormality_type'})"
      ],
      "metadata": {
        "execution": {
          "iopub.status.busy": "2023-02-22T16:15:41.758687Z",
          "iopub.execute_input": "2023-02-22T16:15:41.759805Z",
          "iopub.status.idle": "2023-02-22T16:15:41.76658Z",
          "shell.execute_reply.started": "2023-02-22T16:15:41.759747Z",
          "shell.execute_reply": "2023-02-22T16:15:41.765644Z"
        },
        "trusted": true,
        "id": "r9jNAa2PT8Vp"
      },
      "execution_count": null,
      "outputs": []
    },
    {
      "cell_type": "code",
      "source": [
        "Data_cleaning_2['left_or_right_breast'] = Data_cleaning_2['left_or_right_breast'].astype('category')"
      ],
      "metadata": {
        "execution": {
          "iopub.status.busy": "2023-02-22T16:15:43.914957Z",
          "iopub.execute_input": "2023-02-22T16:15:43.915389Z",
          "iopub.status.idle": "2023-02-22T16:15:43.923048Z",
          "shell.execute_reply.started": "2023-02-22T16:15:43.915355Z",
          "shell.execute_reply": "2023-02-22T16:15:43.921878Z"
        },
        "trusted": true,
        "id": "ZwlSclzUT8Vp"
      },
      "execution_count": null,
      "outputs": []
    },
    {
      "cell_type": "code",
      "source": [
        "Data_cleaning_2['image_view'] = Data_cleaning_2['image_view'].astype('category')"
      ],
      "metadata": {
        "execution": {
          "iopub.status.busy": "2023-02-22T16:15:44.511509Z",
          "iopub.execute_input": "2023-02-22T16:15:44.511921Z",
          "iopub.status.idle": "2023-02-22T16:15:44.518926Z",
          "shell.execute_reply.started": "2023-02-22T16:15:44.511889Z",
          "shell.execute_reply": "2023-02-22T16:15:44.517661Z"
        },
        "trusted": true,
        "id": "Zfe7G5CCT8Vp"
      },
      "execution_count": null,
      "outputs": []
    },
    {
      "cell_type": "code",
      "source": [
        "Data_cleaning_2['mass_margins'] = Data_cleaning_2['mass_margins'].astype('category')"
      ],
      "metadata": {
        "execution": {
          "iopub.status.busy": "2023-02-22T16:15:45.144459Z",
          "iopub.execute_input": "2023-02-22T16:15:45.145706Z",
          "iopub.status.idle": "2023-02-22T16:15:45.152022Z",
          "shell.execute_reply.started": "2023-02-22T16:15:45.145645Z",
          "shell.execute_reply": "2023-02-22T16:15:45.150993Z"
        },
        "trusted": true,
        "id": "bUPV2V79T8Vp"
      },
      "execution_count": null,
      "outputs": []
    },
    {
      "cell_type": "code",
      "source": [
        "Data_cleaning_2['mass_shape'] = Data_cleaning_2['mass_shape'].astype('category')"
      ],
      "metadata": {
        "execution": {
          "iopub.status.busy": "2023-02-22T16:15:47.249762Z",
          "iopub.execute_input": "2023-02-22T16:15:47.250832Z",
          "iopub.status.idle": "2023-02-22T16:15:47.256971Z",
          "shell.execute_reply.started": "2023-02-22T16:15:47.250792Z",
          "shell.execute_reply": "2023-02-22T16:15:47.255858Z"
        },
        "trusted": true,
        "id": "gzVEpv46T8Vp"
      },
      "execution_count": null,
      "outputs": []
    },
    {
      "cell_type": "code",
      "source": [
        "Data_cleaning_2['abnormality_type'] = Data_cleaning_2['abnormality_type'].astype('category')"
      ],
      "metadata": {
        "execution": {
          "iopub.status.busy": "2023-02-22T16:15:47.555734Z",
          "iopub.execute_input": "2023-02-22T16:15:47.556851Z",
          "iopub.status.idle": "2023-02-22T16:15:47.562678Z",
          "shell.execute_reply.started": "2023-02-22T16:15:47.556807Z",
          "shell.execute_reply": "2023-02-22T16:15:47.561879Z"
        },
        "trusted": true,
        "id": "yc1y774aT8Vp"
      },
      "execution_count": null,
      "outputs": []
    },
    {
      "cell_type": "code",
      "source": [
        "Data_cleaning_2['pathology'] = Data_cleaning_2['pathology'].astype('category')"
      ],
      "metadata": {
        "execution": {
          "iopub.status.busy": "2023-02-22T16:15:47.980457Z",
          "iopub.execute_input": "2023-02-22T16:15:47.980903Z",
          "iopub.status.idle": "2023-02-22T16:15:47.988088Z",
          "shell.execute_reply.started": "2023-02-22T16:15:47.980869Z",
          "shell.execute_reply": "2023-02-22T16:15:47.986815Z"
        },
        "trusted": true,
        "id": "sohUJfjOT8Vp"
      },
      "execution_count": null,
      "outputs": []
    },
    {
      "cell_type": "code",
      "source": [
        "Data_cleaning_2.isna().sum()"
      ],
      "metadata": {
        "execution": {
          "iopub.status.busy": "2023-02-22T16:15:49.054279Z",
          "iopub.execute_input": "2023-02-22T16:15:49.054757Z",
          "iopub.status.idle": "2023-02-22T16:15:49.067316Z",
          "shell.execute_reply.started": "2023-02-22T16:15:49.054717Z",
          "shell.execute_reply": "2023-02-22T16:15:49.066027Z"
        },
        "trusted": true,
        "id": "YB5_WPDJT8Vq",
        "colab": {
          "base_uri": "https://localhost:8080/"
        },
        "outputId": "fc9dddcb-0a69-402e-ee3d-df9f5e0ef928"
      },
      "execution_count": null,
      "outputs": [
        {
          "output_type": "execute_result",
          "data": {
            "text/plain": [
              "patient_id                  0\n",
              "breast_density              0\n",
              "left_or_right_breast        0\n",
              "image_view                  0\n",
              "abnormality id              0\n",
              "abnormality_type            0\n",
              "mass_shape                  4\n",
              "mass_margins               43\n",
              "assessment                  0\n",
              "pathology                   0\n",
              "subtlety                    0\n",
              "image file path             0\n",
              "cropped image file path     0\n",
              "ROI mask file path          0\n",
              "dtype: int64"
            ]
          },
          "metadata": {},
          "execution_count": 64
        }
      ]
    },
    {
      "cell_type": "code",
      "source": [
        "Data_cleaning_2['mass_shape'].fillna(method = 'bfill', axis = 0, inplace=True)"
      ],
      "metadata": {
        "execution": {
          "iopub.status.busy": "2023-02-22T16:15:52.459724Z",
          "iopub.execute_input": "2023-02-22T16:15:52.460643Z",
          "iopub.status.idle": "2023-02-22T16:15:52.467323Z",
          "shell.execute_reply.started": "2023-02-22T16:15:52.460587Z",
          "shell.execute_reply": "2023-02-22T16:15:52.466203Z"
        },
        "trusted": true,
        "id": "SINWk9Y4T8Vq"
      },
      "execution_count": null,
      "outputs": []
    },
    {
      "cell_type": "code",
      "source": [
        "Data_cleaning_2['mass_margins'].fillna(method = 'bfill', axis = 0, inplace=True)"
      ],
      "metadata": {
        "execution": {
          "iopub.status.busy": "2023-02-22T16:15:52.733064Z",
          "iopub.execute_input": "2023-02-22T16:15:52.733467Z",
          "iopub.status.idle": "2023-02-22T16:15:52.740001Z",
          "shell.execute_reply.started": "2023-02-22T16:15:52.733435Z",
          "shell.execute_reply": "2023-02-22T16:15:52.739068Z"
        },
        "trusted": true,
        "id": "VinT9zfGT8Vq"
      },
      "execution_count": null,
      "outputs": []
    },
    {
      "cell_type": "code",
      "source": [
        "Data_cleaning_2.isna().sum()"
      ],
      "metadata": {
        "execution": {
          "iopub.status.busy": "2023-02-22T16:15:52.995851Z",
          "iopub.execute_input": "2023-02-22T16:15:52.996662Z",
          "iopub.status.idle": "2023-02-22T16:15:53.007596Z",
          "shell.execute_reply.started": "2023-02-22T16:15:52.996594Z",
          "shell.execute_reply": "2023-02-22T16:15:53.006561Z"
        },
        "trusted": true,
        "id": "L7DC9vm6T8Vq",
        "colab": {
          "base_uri": "https://localhost:8080/"
        },
        "outputId": "667e8125-997d-4451-9e2a-613c6e20243b"
      },
      "execution_count": null,
      "outputs": [
        {
          "output_type": "execute_result",
          "data": {
            "text/plain": [
              "patient_id                 0\n",
              "breast_density             0\n",
              "left_or_right_breast       0\n",
              "image_view                 0\n",
              "abnormality id             0\n",
              "abnormality_type           0\n",
              "mass_shape                 0\n",
              "mass_margins               0\n",
              "assessment                 0\n",
              "pathology                  0\n",
              "subtlety                   0\n",
              "image file path            0\n",
              "cropped image file path    0\n",
              "ROI mask file path         0\n",
              "dtype: int64"
            ]
          },
          "metadata": {},
          "execution_count": 67
        }
      ]
    },
    {
      "cell_type": "code",
      "source": [
        "Data_cleaning_2.info()"
      ],
      "metadata": {
        "execution": {
          "iopub.status.busy": "2023-02-22T16:15:56.34008Z",
          "iopub.execute_input": "2023-02-22T16:15:56.340964Z",
          "iopub.status.idle": "2023-02-22T16:15:56.35977Z",
          "shell.execute_reply.started": "2023-02-22T16:15:56.340928Z",
          "shell.execute_reply": "2023-02-22T16:15:56.358599Z"
        },
        "trusted": true,
        "id": "NER0EuQCT8Vq",
        "colab": {
          "base_uri": "https://localhost:8080/"
        },
        "outputId": "abecfca5-6bb7-4fb4-b9f4-e27d1e9d564e"
      },
      "execution_count": null,
      "outputs": [
        {
          "output_type": "stream",
          "name": "stdout",
          "text": [
            "<class 'pandas.core.frame.DataFrame'>\n",
            "RangeIndex: 1318 entries, 0 to 1317\n",
            "Data columns (total 14 columns):\n",
            " #   Column                   Non-Null Count  Dtype   \n",
            "---  ------                   --------------  -----   \n",
            " 0   patient_id               1318 non-null   object  \n",
            " 1   breast_density           1318 non-null   int64   \n",
            " 2   left_or_right_breast     1318 non-null   category\n",
            " 3   image_view               1318 non-null   category\n",
            " 4   abnormality id           1318 non-null   int64   \n",
            " 5   abnormality_type         1318 non-null   category\n",
            " 6   mass_shape               1318 non-null   category\n",
            " 7   mass_margins             1318 non-null   category\n",
            " 8   assessment               1318 non-null   int64   \n",
            " 9   pathology                1318 non-null   category\n",
            " 10  subtlety                 1318 non-null   int64   \n",
            " 11  image file path          1318 non-null   object  \n",
            " 12  cropped image file path  1318 non-null   object  \n",
            " 13  ROI mask file path       1318 non-null   object  \n",
            "dtypes: category(6), int64(4), object(4)\n",
            "memory usage: 92.1+ KB\n"
          ]
        }
      ]
    },
    {
      "cell_type": "markdown",
      "source": [
        "## Data Split"
      ],
      "metadata": {
        "id": "wNSxCcBjVMd4"
      }
    },
    {
      "cell_type": "code",
      "source": [
        "breast_img = glob.glob('/content/drive/MyDrive/breast-histopathology-images/IDC_regular_ps50_idx5/**/*.png', recursive = True)"
      ],
      "metadata": {
        "execution": {
          "iopub.status.busy": "2023-02-22T16:16:00.640206Z",
          "iopub.execute_input": "2023-02-22T16:16:00.640644Z",
          "iopub.status.idle": "2023-02-22T16:19:11.072892Z",
          "shell.execute_reply.started": "2023-02-22T16:16:00.640585Z",
          "shell.execute_reply": "2023-02-22T16:19:11.071832Z"
        },
        "trusted": true,
        "id": "SBWX8SWvT8Vq"
      },
      "execution_count": null,
      "outputs": []
    },
    {
      "cell_type": "code",
      "source": [
        "for imgname in breast_img[:3]:\n",
        "    print(imgname)"
      ],
      "metadata": {
        "execution": {
          "iopub.status.busy": "2023-02-22T16:19:11.07487Z",
          "iopub.execute_input": "2023-02-22T16:19:11.075456Z",
          "iopub.status.idle": "2023-02-22T16:19:11.080945Z",
          "shell.execute_reply.started": "2023-02-22T16:19:11.075411Z",
          "shell.execute_reply": "2023-02-22T16:19:11.079931Z"
        },
        "trusted": true,
        "id": "XpoLuXgmT8Vq"
      },
      "execution_count": null,
      "outputs": []
    },
    {
      "cell_type": "code",
      "source": [
        "non_can_img = []\n",
        "can_img = []\n",
        "\n",
        "for img in breast_img:\n",
        "    if img[-5] == '0' :\n",
        "        non_can_img.append(img)\n",
        "\n",
        "    elif img[-5] == '1' :\n",
        "        can_img.append(img)"
      ],
      "metadata": {
        "execution": {
          "iopub.status.busy": "2023-02-22T16:19:16.762839Z",
          "iopub.execute_input": "2023-02-22T16:19:16.763577Z",
          "iopub.status.idle": "2023-02-22T16:19:16.845084Z",
          "shell.execute_reply.started": "2023-02-22T16:19:16.763541Z",
          "shell.execute_reply": "2023-02-22T16:19:16.844035Z"
        },
        "trusted": true,
        "id": "Ougr54ObT8Vq"
      },
      "execution_count": null,
      "outputs": []
    },
    {
      "cell_type": "code",
      "source": [
        "non_can_num = len(non_can_img)  # No cancer\n",
        "can_num = len(can_img)   # Cancer\n",
        "\n",
        "total_img_num = non_can_num + can_num\n",
        "\n",
        "print('Number of Images of no cancer: {}' .format(non_can_num))   # images of Non cancer\n",
        "print('Number of Images of cancer : {}' .format(can_num))   # images of cancer\n",
        "print('Total Number of Images : {}' .format(total_img_num))"
      ],
      "metadata": {
        "execution": {
          "iopub.status.busy": "2023-02-22T16:19:17.265215Z",
          "iopub.execute_input": "2023-02-22T16:19:17.266124Z",
          "iopub.status.idle": "2023-02-22T16:19:17.273144Z",
          "shell.execute_reply.started": "2023-02-22T16:19:17.266083Z",
          "shell.execute_reply": "2023-02-22T16:19:17.271554Z"
        },
        "trusted": true,
        "id": "CYx1Ag92T8Vq",
        "colab": {
          "base_uri": "https://localhost:8080/"
        },
        "outputId": "b17e511c-5203-491f-9590-86bd034a6873"
      },
      "execution_count": null,
      "outputs": [
        {
          "output_type": "stream",
          "name": "stdout",
          "text": [
            "Number of Images of no cancer: 0\n",
            "Number of Images of cancer : 0\n",
            "Total Number of Images : 0\n"
          ]
        }
      ]
    },
    {
      "cell_type": "code",
      "source": [
        "data_insight_1 = pd.DataFrame({'state of cancer' : ['0','1'],'Numbers of Patients' : [198738,78786]})"
      ],
      "metadata": {
        "execution": {
          "iopub.status.busy": "2023-02-22T16:19:18.027389Z",
          "iopub.execute_input": "2023-02-22T16:19:18.027848Z",
          "iopub.status.idle": "2023-02-22T16:19:18.035394Z",
          "shell.execute_reply.started": "2023-02-22T16:19:18.02781Z",
          "shell.execute_reply": "2023-02-22T16:19:18.034072Z"
        },
        "trusted": true,
        "id": "LCbCCfOsT8Vq"
      },
      "execution_count": null,
      "outputs": []
    },
    {
      "cell_type": "code",
      "source": [
        "data_insight_1"
      ],
      "metadata": {
        "execution": {
          "iopub.status.busy": "2023-02-22T16:19:58.421409Z",
          "iopub.execute_input": "2023-02-22T16:19:58.421935Z",
          "iopub.status.idle": "2023-02-22T16:19:58.433635Z",
          "shell.execute_reply.started": "2023-02-22T16:19:58.421897Z",
          "shell.execute_reply": "2023-02-22T16:19:58.432374Z"
        },
        "trusted": true,
        "id": "WyTKcIqaT8Vr",
        "colab": {
          "base_uri": "https://localhost:8080/",
          "height": 112
        },
        "outputId": "18493ed6-7a78-4afc-f2ab-323bb39fc667"
      },
      "execution_count": null,
      "outputs": [
        {
          "output_type": "execute_result",
          "data": {
            "text/plain": [
              "  state of cancer  Numbers of Patients\n",
              "0               0               198738\n",
              "1               1                78786"
            ],
            "text/html": [
              "\n",
              "  <div id=\"df-7933bfdc-7fbc-488e-9d7f-03778db89707\">\n",
              "    <div class=\"colab-df-container\">\n",
              "      <div>\n",
              "<style scoped>\n",
              "    .dataframe tbody tr th:only-of-type {\n",
              "        vertical-align: middle;\n",
              "    }\n",
              "\n",
              "    .dataframe tbody tr th {\n",
              "        vertical-align: top;\n",
              "    }\n",
              "\n",
              "    .dataframe thead th {\n",
              "        text-align: right;\n",
              "    }\n",
              "</style>\n",
              "<table border=\"1\" class=\"dataframe\">\n",
              "  <thead>\n",
              "    <tr style=\"text-align: right;\">\n",
              "      <th></th>\n",
              "      <th>state of cancer</th>\n",
              "      <th>Numbers of Patients</th>\n",
              "    </tr>\n",
              "  </thead>\n",
              "  <tbody>\n",
              "    <tr>\n",
              "      <th>0</th>\n",
              "      <td>0</td>\n",
              "      <td>198738</td>\n",
              "    </tr>\n",
              "    <tr>\n",
              "      <th>1</th>\n",
              "      <td>1</td>\n",
              "      <td>78786</td>\n",
              "    </tr>\n",
              "  </tbody>\n",
              "</table>\n",
              "</div>\n",
              "      <button class=\"colab-df-convert\" onclick=\"convertToInteractive('df-7933bfdc-7fbc-488e-9d7f-03778db89707')\"\n",
              "              title=\"Convert this dataframe to an interactive table.\"\n",
              "              style=\"display:none;\">\n",
              "        \n",
              "  <svg xmlns=\"http://www.w3.org/2000/svg\" height=\"24px\"viewBox=\"0 0 24 24\"\n",
              "       width=\"24px\">\n",
              "    <path d=\"M0 0h24v24H0V0z\" fill=\"none\"/>\n",
              "    <path d=\"M18.56 5.44l.94 2.06.94-2.06 2.06-.94-2.06-.94-.94-2.06-.94 2.06-2.06.94zm-11 1L8.5 8.5l.94-2.06 2.06-.94-2.06-.94L8.5 2.5l-.94 2.06-2.06.94zm10 10l.94 2.06.94-2.06 2.06-.94-2.06-.94-.94-2.06-.94 2.06-2.06.94z\"/><path d=\"M17.41 7.96l-1.37-1.37c-.4-.4-.92-.59-1.43-.59-.52 0-1.04.2-1.43.59L10.3 9.45l-7.72 7.72c-.78.78-.78 2.05 0 2.83L4 21.41c.39.39.9.59 1.41.59.51 0 1.02-.2 1.41-.59l7.78-7.78 2.81-2.81c.8-.78.8-2.07 0-2.86zM5.41 20L4 18.59l7.72-7.72 1.47 1.35L5.41 20z\"/>\n",
              "  </svg>\n",
              "      </button>\n",
              "      \n",
              "  <style>\n",
              "    .colab-df-container {\n",
              "      display:flex;\n",
              "      flex-wrap:wrap;\n",
              "      gap: 12px;\n",
              "    }\n",
              "\n",
              "    .colab-df-convert {\n",
              "      background-color: #E8F0FE;\n",
              "      border: none;\n",
              "      border-radius: 50%;\n",
              "      cursor: pointer;\n",
              "      display: none;\n",
              "      fill: #1967D2;\n",
              "      height: 32px;\n",
              "      padding: 0 0 0 0;\n",
              "      width: 32px;\n",
              "    }\n",
              "\n",
              "    .colab-df-convert:hover {\n",
              "      background-color: #E2EBFA;\n",
              "      box-shadow: 0px 1px 2px rgba(60, 64, 67, 0.3), 0px 1px 3px 1px rgba(60, 64, 67, 0.15);\n",
              "      fill: #174EA6;\n",
              "    }\n",
              "\n",
              "    [theme=dark] .colab-df-convert {\n",
              "      background-color: #3B4455;\n",
              "      fill: #D2E3FC;\n",
              "    }\n",
              "\n",
              "    [theme=dark] .colab-df-convert:hover {\n",
              "      background-color: #434B5C;\n",
              "      box-shadow: 0px 1px 3px 1px rgba(0, 0, 0, 0.15);\n",
              "      filter: drop-shadow(0px 1px 2px rgba(0, 0, 0, 0.3));\n",
              "      fill: #FFFFFF;\n",
              "    }\n",
              "  </style>\n",
              "\n",
              "      <script>\n",
              "        const buttonEl =\n",
              "          document.querySelector('#df-7933bfdc-7fbc-488e-9d7f-03778db89707 button.colab-df-convert');\n",
              "        buttonEl.style.display =\n",
              "          google.colab.kernel.accessAllowed ? 'block' : 'none';\n",
              "\n",
              "        async function convertToInteractive(key) {\n",
              "          const element = document.querySelector('#df-7933bfdc-7fbc-488e-9d7f-03778db89707');\n",
              "          const dataTable =\n",
              "            await google.colab.kernel.invokeFunction('convertToInteractive',\n",
              "                                                     [key], {});\n",
              "          if (!dataTable) return;\n",
              "\n",
              "          const docLinkHtml = 'Like what you see? Visit the ' +\n",
              "            '<a target=\"_blank\" href=https://colab.research.google.com/notebooks/data_table.ipynb>data table notebook</a>'\n",
              "            + ' to learn more about interactive tables.';\n",
              "          element.innerHTML = '';\n",
              "          dataTable['output_type'] = 'display_data';\n",
              "          await google.colab.output.renderOutput(dataTable, element);\n",
              "          const docLink = document.createElement('div');\n",
              "          docLink.innerHTML = docLinkHtml;\n",
              "          element.appendChild(docLink);\n",
              "        }\n",
              "      </script>\n",
              "    </div>\n",
              "  </div>\n",
              "  "
            ]
          },
          "metadata": {},
          "execution_count": 74
        }
      ]
    },
    {
      "cell_type": "code",
      "source": [
        "bar = px.bar(data_frame=data_insight_1, x = 'state of cancer', y='Numbers of Patients', color='state of cancer')\n",
        "bar.update_layout(title_text='Number of Patients with cancer (1) and patients with no cancer (0)', title_x=0.5)\n",
        "bar.show()"
      ],
      "metadata": {
        "execution": {
          "iopub.status.busy": "2023-02-22T16:20:01.623125Z",
          "iopub.execute_input": "2023-02-22T16:20:01.623755Z",
          "iopub.status.idle": "2023-02-22T16:20:02.921666Z",
          "shell.execute_reply.started": "2023-02-22T16:20:01.623721Z",
          "shell.execute_reply": "2023-02-22T16:20:02.920824Z"
        },
        "trusted": true,
        "id": "7v7Vn8pLT8Vr",
        "colab": {
          "base_uri": "https://localhost:8080/",
          "height": 542
        },
        "outputId": "e4f157ba-5b5c-4ac6-e6cc-898041724d8e"
      },
      "execution_count": null,
      "outputs": [
        {
          "output_type": "display_data",
          "data": {
            "text/html": [
              "<html>\n",
              "<head><meta charset=\"utf-8\" /></head>\n",
              "<body>\n",
              "    <div>            <script src=\"https://cdnjs.cloudflare.com/ajax/libs/mathjax/2.7.5/MathJax.js?config=TeX-AMS-MML_SVG\"></script><script type=\"text/javascript\">if (window.MathJax && window.MathJax.Hub && window.MathJax.Hub.Config) {window.MathJax.Hub.Config({SVG: {font: \"STIX-Web\"}});}</script>                <script type=\"text/javascript\">window.PlotlyConfig = {MathJaxConfig: 'local'};</script>\n",
              "        <script src=\"https://cdn.plot.ly/plotly-2.18.2.min.js\"></script>                <div id=\"a140f8db-f35a-44e3-a48b-a08d0c9c18b0\" class=\"plotly-graph-div\" style=\"height:525px; width:100%;\"></div>            <script type=\"text/javascript\">                                    window.PLOTLYENV=window.PLOTLYENV || {};                                    if (document.getElementById(\"a140f8db-f35a-44e3-a48b-a08d0c9c18b0\")) {                    Plotly.newPlot(                        \"a140f8db-f35a-44e3-a48b-a08d0c9c18b0\",                        [{\"alignmentgroup\":\"True\",\"hovertemplate\":\"state of cancer=%{x}<br>Numbers of Patients=%{y}<extra></extra>\",\"legendgroup\":\"0\",\"marker\":{\"color\":\"#636efa\",\"pattern\":{\"shape\":\"\"}},\"name\":\"0\",\"offsetgroup\":\"0\",\"orientation\":\"v\",\"showlegend\":true,\"textposition\":\"auto\",\"x\":[\"0\"],\"xaxis\":\"x\",\"y\":[198738],\"yaxis\":\"y\",\"type\":\"bar\"},{\"alignmentgroup\":\"True\",\"hovertemplate\":\"state of cancer=%{x}<br>Numbers of Patients=%{y}<extra></extra>\",\"legendgroup\":\"1\",\"marker\":{\"color\":\"#EF553B\",\"pattern\":{\"shape\":\"\"}},\"name\":\"1\",\"offsetgroup\":\"1\",\"orientation\":\"v\",\"showlegend\":true,\"textposition\":\"auto\",\"x\":[\"1\"],\"xaxis\":\"x\",\"y\":[78786],\"yaxis\":\"y\",\"type\":\"bar\"}],                        {\"template\":{\"data\":{\"histogram2dcontour\":[{\"type\":\"histogram2dcontour\",\"colorbar\":{\"outlinewidth\":0,\"ticks\":\"\"},\"colorscale\":[[0.0,\"#0d0887\"],[0.1111111111111111,\"#46039f\"],[0.2222222222222222,\"#7201a8\"],[0.3333333333333333,\"#9c179e\"],[0.4444444444444444,\"#bd3786\"],[0.5555555555555556,\"#d8576b\"],[0.6666666666666666,\"#ed7953\"],[0.7777777777777778,\"#fb9f3a\"],[0.8888888888888888,\"#fdca26\"],[1.0,\"#f0f921\"]]}],\"choropleth\":[{\"type\":\"choropleth\",\"colorbar\":{\"outlinewidth\":0,\"ticks\":\"\"}}],\"histogram2d\":[{\"type\":\"histogram2d\",\"colorbar\":{\"outlinewidth\":0,\"ticks\":\"\"},\"colorscale\":[[0.0,\"#0d0887\"],[0.1111111111111111,\"#46039f\"],[0.2222222222222222,\"#7201a8\"],[0.3333333333333333,\"#9c179e\"],[0.4444444444444444,\"#bd3786\"],[0.5555555555555556,\"#d8576b\"],[0.6666666666666666,\"#ed7953\"],[0.7777777777777778,\"#fb9f3a\"],[0.8888888888888888,\"#fdca26\"],[1.0,\"#f0f921\"]]}],\"heatmap\":[{\"type\":\"heatmap\",\"colorbar\":{\"outlinewidth\":0,\"ticks\":\"\"},\"colorscale\":[[0.0,\"#0d0887\"],[0.1111111111111111,\"#46039f\"],[0.2222222222222222,\"#7201a8\"],[0.3333333333333333,\"#9c179e\"],[0.4444444444444444,\"#bd3786\"],[0.5555555555555556,\"#d8576b\"],[0.6666666666666666,\"#ed7953\"],[0.7777777777777778,\"#fb9f3a\"],[0.8888888888888888,\"#fdca26\"],[1.0,\"#f0f921\"]]}],\"heatmapgl\":[{\"type\":\"heatmapgl\",\"colorbar\":{\"outlinewidth\":0,\"ticks\":\"\"},\"colorscale\":[[0.0,\"#0d0887\"],[0.1111111111111111,\"#46039f\"],[0.2222222222222222,\"#7201a8\"],[0.3333333333333333,\"#9c179e\"],[0.4444444444444444,\"#bd3786\"],[0.5555555555555556,\"#d8576b\"],[0.6666666666666666,\"#ed7953\"],[0.7777777777777778,\"#fb9f3a\"],[0.8888888888888888,\"#fdca26\"],[1.0,\"#f0f921\"]]}],\"contourcarpet\":[{\"type\":\"contourcarpet\",\"colorbar\":{\"outlinewidth\":0,\"ticks\":\"\"}}],\"contour\":[{\"type\":\"contour\",\"colorbar\":{\"outlinewidth\":0,\"ticks\":\"\"},\"colorscale\":[[0.0,\"#0d0887\"],[0.1111111111111111,\"#46039f\"],[0.2222222222222222,\"#7201a8\"],[0.3333333333333333,\"#9c179e\"],[0.4444444444444444,\"#bd3786\"],[0.5555555555555556,\"#d8576b\"],[0.6666666666666666,\"#ed7953\"],[0.7777777777777778,\"#fb9f3a\"],[0.8888888888888888,\"#fdca26\"],[1.0,\"#f0f921\"]]}],\"surface\":[{\"type\":\"surface\",\"colorbar\":{\"outlinewidth\":0,\"ticks\":\"\"},\"colorscale\":[[0.0,\"#0d0887\"],[0.1111111111111111,\"#46039f\"],[0.2222222222222222,\"#7201a8\"],[0.3333333333333333,\"#9c179e\"],[0.4444444444444444,\"#bd3786\"],[0.5555555555555556,\"#d8576b\"],[0.6666666666666666,\"#ed7953\"],[0.7777777777777778,\"#fb9f3a\"],[0.8888888888888888,\"#fdca26\"],[1.0,\"#f0f921\"]]}],\"mesh3d\":[{\"type\":\"mesh3d\",\"colorbar\":{\"outlinewidth\":0,\"ticks\":\"\"}}],\"scatter\":[{\"fillpattern\":{\"fillmode\":\"overlay\",\"size\":10,\"solidity\":0.2},\"type\":\"scatter\"}],\"parcoords\":[{\"type\":\"parcoords\",\"line\":{\"colorbar\":{\"outlinewidth\":0,\"ticks\":\"\"}}}],\"scatterpolargl\":[{\"type\":\"scatterpolargl\",\"marker\":{\"colorbar\":{\"outlinewidth\":0,\"ticks\":\"\"}}}],\"bar\":[{\"error_x\":{\"color\":\"#2a3f5f\"},\"error_y\":{\"color\":\"#2a3f5f\"},\"marker\":{\"line\":{\"color\":\"#E5ECF6\",\"width\":0.5},\"pattern\":{\"fillmode\":\"overlay\",\"size\":10,\"solidity\":0.2}},\"type\":\"bar\"}],\"scattergeo\":[{\"type\":\"scattergeo\",\"marker\":{\"colorbar\":{\"outlinewidth\":0,\"ticks\":\"\"}}}],\"scatterpolar\":[{\"type\":\"scatterpolar\",\"marker\":{\"colorbar\":{\"outlinewidth\":0,\"ticks\":\"\"}}}],\"histogram\":[{\"marker\":{\"pattern\":{\"fillmode\":\"overlay\",\"size\":10,\"solidity\":0.2}},\"type\":\"histogram\"}],\"scattergl\":[{\"type\":\"scattergl\",\"marker\":{\"colorbar\":{\"outlinewidth\":0,\"ticks\":\"\"}}}],\"scatter3d\":[{\"type\":\"scatter3d\",\"line\":{\"colorbar\":{\"outlinewidth\":0,\"ticks\":\"\"}},\"marker\":{\"colorbar\":{\"outlinewidth\":0,\"ticks\":\"\"}}}],\"scattermapbox\":[{\"type\":\"scattermapbox\",\"marker\":{\"colorbar\":{\"outlinewidth\":0,\"ticks\":\"\"}}}],\"scatterternary\":[{\"type\":\"scatterternary\",\"marker\":{\"colorbar\":{\"outlinewidth\":0,\"ticks\":\"\"}}}],\"scattercarpet\":[{\"type\":\"scattercarpet\",\"marker\":{\"colorbar\":{\"outlinewidth\":0,\"ticks\":\"\"}}}],\"carpet\":[{\"aaxis\":{\"endlinecolor\":\"#2a3f5f\",\"gridcolor\":\"white\",\"linecolor\":\"white\",\"minorgridcolor\":\"white\",\"startlinecolor\":\"#2a3f5f\"},\"baxis\":{\"endlinecolor\":\"#2a3f5f\",\"gridcolor\":\"white\",\"linecolor\":\"white\",\"minorgridcolor\":\"white\",\"startlinecolor\":\"#2a3f5f\"},\"type\":\"carpet\"}],\"table\":[{\"cells\":{\"fill\":{\"color\":\"#EBF0F8\"},\"line\":{\"color\":\"white\"}},\"header\":{\"fill\":{\"color\":\"#C8D4E3\"},\"line\":{\"color\":\"white\"}},\"type\":\"table\"}],\"barpolar\":[{\"marker\":{\"line\":{\"color\":\"#E5ECF6\",\"width\":0.5},\"pattern\":{\"fillmode\":\"overlay\",\"size\":10,\"solidity\":0.2}},\"type\":\"barpolar\"}],\"pie\":[{\"automargin\":true,\"type\":\"pie\"}]},\"layout\":{\"autotypenumbers\":\"strict\",\"colorway\":[\"#636efa\",\"#EF553B\",\"#00cc96\",\"#ab63fa\",\"#FFA15A\",\"#19d3f3\",\"#FF6692\",\"#B6E880\",\"#FF97FF\",\"#FECB52\"],\"font\":{\"color\":\"#2a3f5f\"},\"hovermode\":\"closest\",\"hoverlabel\":{\"align\":\"left\"},\"paper_bgcolor\":\"white\",\"plot_bgcolor\":\"#E5ECF6\",\"polar\":{\"bgcolor\":\"#E5ECF6\",\"angularaxis\":{\"gridcolor\":\"white\",\"linecolor\":\"white\",\"ticks\":\"\"},\"radialaxis\":{\"gridcolor\":\"white\",\"linecolor\":\"white\",\"ticks\":\"\"}},\"ternary\":{\"bgcolor\":\"#E5ECF6\",\"aaxis\":{\"gridcolor\":\"white\",\"linecolor\":\"white\",\"ticks\":\"\"},\"baxis\":{\"gridcolor\":\"white\",\"linecolor\":\"white\",\"ticks\":\"\"},\"caxis\":{\"gridcolor\":\"white\",\"linecolor\":\"white\",\"ticks\":\"\"}},\"coloraxis\":{\"colorbar\":{\"outlinewidth\":0,\"ticks\":\"\"}},\"colorscale\":{\"sequential\":[[0.0,\"#0d0887\"],[0.1111111111111111,\"#46039f\"],[0.2222222222222222,\"#7201a8\"],[0.3333333333333333,\"#9c179e\"],[0.4444444444444444,\"#bd3786\"],[0.5555555555555556,\"#d8576b\"],[0.6666666666666666,\"#ed7953\"],[0.7777777777777778,\"#fb9f3a\"],[0.8888888888888888,\"#fdca26\"],[1.0,\"#f0f921\"]],\"sequentialminus\":[[0.0,\"#0d0887\"],[0.1111111111111111,\"#46039f\"],[0.2222222222222222,\"#7201a8\"],[0.3333333333333333,\"#9c179e\"],[0.4444444444444444,\"#bd3786\"],[0.5555555555555556,\"#d8576b\"],[0.6666666666666666,\"#ed7953\"],[0.7777777777777778,\"#fb9f3a\"],[0.8888888888888888,\"#fdca26\"],[1.0,\"#f0f921\"]],\"diverging\":[[0,\"#8e0152\"],[0.1,\"#c51b7d\"],[0.2,\"#de77ae\"],[0.3,\"#f1b6da\"],[0.4,\"#fde0ef\"],[0.5,\"#f7f7f7\"],[0.6,\"#e6f5d0\"],[0.7,\"#b8e186\"],[0.8,\"#7fbc41\"],[0.9,\"#4d9221\"],[1,\"#276419\"]]},\"xaxis\":{\"gridcolor\":\"white\",\"linecolor\":\"white\",\"ticks\":\"\",\"title\":{\"standoff\":15},\"zerolinecolor\":\"white\",\"automargin\":true,\"zerolinewidth\":2},\"yaxis\":{\"gridcolor\":\"white\",\"linecolor\":\"white\",\"ticks\":\"\",\"title\":{\"standoff\":15},\"zerolinecolor\":\"white\",\"automargin\":true,\"zerolinewidth\":2},\"scene\":{\"xaxis\":{\"backgroundcolor\":\"#E5ECF6\",\"gridcolor\":\"white\",\"linecolor\":\"white\",\"showbackground\":true,\"ticks\":\"\",\"zerolinecolor\":\"white\",\"gridwidth\":2},\"yaxis\":{\"backgroundcolor\":\"#E5ECF6\",\"gridcolor\":\"white\",\"linecolor\":\"white\",\"showbackground\":true,\"ticks\":\"\",\"zerolinecolor\":\"white\",\"gridwidth\":2},\"zaxis\":{\"backgroundcolor\":\"#E5ECF6\",\"gridcolor\":\"white\",\"linecolor\":\"white\",\"showbackground\":true,\"ticks\":\"\",\"zerolinecolor\":\"white\",\"gridwidth\":2}},\"shapedefaults\":{\"line\":{\"color\":\"#2a3f5f\"}},\"annotationdefaults\":{\"arrowcolor\":\"#2a3f5f\",\"arrowhead\":0,\"arrowwidth\":1},\"geo\":{\"bgcolor\":\"white\",\"landcolor\":\"#E5ECF6\",\"subunitcolor\":\"white\",\"showland\":true,\"showlakes\":true,\"lakecolor\":\"white\"},\"title\":{\"x\":0.05},\"mapbox\":{\"style\":\"light\"}}},\"xaxis\":{\"anchor\":\"y\",\"domain\":[0.0,1.0],\"title\":{\"text\":\"state of cancer\"},\"categoryorder\":\"array\",\"categoryarray\":[\"0\",\"1\"]},\"yaxis\":{\"anchor\":\"x\",\"domain\":[0.0,1.0],\"title\":{\"text\":\"Numbers of Patients\"}},\"legend\":{\"title\":{\"text\":\"state of cancer\"},\"tracegroupgap\":0},\"margin\":{\"t\":60},\"barmode\":\"relative\",\"title\":{\"text\":\"Number of Patients with cancer (1) and patients with no cancer (0)\",\"x\":0.5}},                        {\"responsive\": true}                    ).then(function(){\n",
              "                            \n",
              "var gd = document.getElementById('a140f8db-f35a-44e3-a48b-a08d0c9c18b0');\n",
              "var x = new MutationObserver(function (mutations, observer) {{\n",
              "        var display = window.getComputedStyle(gd).display;\n",
              "        if (!display || display === 'none') {{\n",
              "            console.log([gd, 'removed!']);\n",
              "            Plotly.purge(gd);\n",
              "            observer.disconnect();\n",
              "        }}\n",
              "}});\n",
              "\n",
              "// Listen for the removal of the full notebook cells\n",
              "var notebookContainer = gd.closest('#notebook-container');\n",
              "if (notebookContainer) {{\n",
              "    x.observe(notebookContainer, {childList: true});\n",
              "}}\n",
              "\n",
              "// Listen for the clearing of the current output cell\n",
              "var outputEl = gd.closest('.output');\n",
              "if (outputEl) {{\n",
              "    x.observe(outputEl, {childList: true});\n",
              "}}\n",
              "\n",
              "                        })                };                            </script>        </div>\n",
              "</body>\n",
              "</html>"
            ]
          },
          "metadata": {}
        }
      ]
    },
    {
      "cell_type": "code",
      "source": [
        "from keras.preprocessing import image\n",
        "\n",
        "plt.figure(figsize = (15, 15))\n",
        "\n",
        "some_non = np.random.randint(0, len(non_can_img), 18)\n",
        "some_can = np.random.randint(0, len(can_img), 18)\n",
        "\n",
        "s = 0\n",
        "for num in some_non:\n",
        "\n",
        "        img = image.load_img((non_can_img[num]), target_size=(100, 100))\n",
        "        img = image.img_to_array(img)\n",
        "\n",
        "        plt.subplot(6, 6, 2*s+1)\n",
        "        plt.axis('off')\n",
        "        plt.title('no cancer')\n",
        "        plt.imshow(img.astype('uint8'))\n",
        "        s += 1\n",
        "\n",
        "s = 1\n",
        "for num in some_can:\n",
        "\n",
        "        img = image.load_img((can_img[num]), target_size=(100, 100))\n",
        "        img = image.img_to_array(img)\n",
        "        plt.subplot(6, 6, 2*s)\n",
        "        plt.axis('off')\n",
        "        plt.title('cancer')\n",
        "        plt.imshow(img.astype('uint8'))\n",
        "        s += 1"
      ],
      "metadata": {
        "execution": {
          "iopub.status.busy": "2023-02-22T16:28:29.549077Z",
          "iopub.execute_input": "2023-02-22T16:28:29.549524Z",
          "iopub.status.idle": "2023-02-22T16:28:39.825784Z",
          "shell.execute_reply.started": "2023-02-22T16:28:29.549489Z",
          "shell.execute_reply": "2023-02-22T16:28:39.824212Z"
        },
        "trusted": true,
        "id": "2Clvz3F4T8Vr",
        "colab": {
          "base_uri": "https://localhost:8080/",
          "height": 321
        },
        "outputId": "49f19b8f-f9ae-4274-8049-3f8e49286d1f"
      },
      "execution_count": null,
      "outputs": [
        {
          "output_type": "error",
          "ename": "ValueError",
          "evalue": "ignored",
          "traceback": [
            "\u001b[0;31m---------------------------------------------------------------------------\u001b[0m",
            "\u001b[0;31mValueError\u001b[0m                                Traceback (most recent call last)",
            "\u001b[0;32m<ipython-input-76-16d1d70c78cb>\u001b[0m in \u001b[0;36m<cell line: 5>\u001b[0;34m()\u001b[0m\n\u001b[1;32m      3\u001b[0m \u001b[0mplt\u001b[0m\u001b[0;34m.\u001b[0m\u001b[0mfigure\u001b[0m\u001b[0;34m(\u001b[0m\u001b[0mfigsize\u001b[0m \u001b[0;34m=\u001b[0m \u001b[0;34m(\u001b[0m\u001b[0;36m15\u001b[0m\u001b[0;34m,\u001b[0m \u001b[0;36m15\u001b[0m\u001b[0;34m)\u001b[0m\u001b[0;34m)\u001b[0m\u001b[0;34m\u001b[0m\u001b[0;34m\u001b[0m\u001b[0m\n\u001b[1;32m      4\u001b[0m \u001b[0;34m\u001b[0m\u001b[0m\n\u001b[0;32m----> 5\u001b[0;31m \u001b[0msome_non\u001b[0m \u001b[0;34m=\u001b[0m \u001b[0mnp\u001b[0m\u001b[0;34m.\u001b[0m\u001b[0mrandom\u001b[0m\u001b[0;34m.\u001b[0m\u001b[0mrandint\u001b[0m\u001b[0;34m(\u001b[0m\u001b[0;36m0\u001b[0m\u001b[0;34m,\u001b[0m \u001b[0mlen\u001b[0m\u001b[0;34m(\u001b[0m\u001b[0mnon_can_img\u001b[0m\u001b[0;34m)\u001b[0m\u001b[0;34m,\u001b[0m \u001b[0;36m18\u001b[0m\u001b[0;34m)\u001b[0m\u001b[0;34m\u001b[0m\u001b[0;34m\u001b[0m\u001b[0m\n\u001b[0m\u001b[1;32m      6\u001b[0m \u001b[0msome_can\u001b[0m \u001b[0;34m=\u001b[0m \u001b[0mnp\u001b[0m\u001b[0;34m.\u001b[0m\u001b[0mrandom\u001b[0m\u001b[0;34m.\u001b[0m\u001b[0mrandint\u001b[0m\u001b[0;34m(\u001b[0m\u001b[0;36m0\u001b[0m\u001b[0;34m,\u001b[0m \u001b[0mlen\u001b[0m\u001b[0;34m(\u001b[0m\u001b[0mcan_img\u001b[0m\u001b[0;34m)\u001b[0m\u001b[0;34m,\u001b[0m \u001b[0;36m18\u001b[0m\u001b[0;34m)\u001b[0m\u001b[0;34m\u001b[0m\u001b[0;34m\u001b[0m\u001b[0m\n\u001b[1;32m      7\u001b[0m \u001b[0;34m\u001b[0m\u001b[0m\n",
            "\u001b[0;32mmtrand.pyx\u001b[0m in \u001b[0;36mnumpy.random.mtrand.RandomState.randint\u001b[0;34m()\u001b[0m\n",
            "\u001b[0;32m_bounded_integers.pyx\u001b[0m in \u001b[0;36mnumpy.random._bounded_integers._rand_int64\u001b[0;34m()\u001b[0m\n",
            "\u001b[0;31mValueError\u001b[0m: high <= 0"
          ]
        },
        {
          "output_type": "display_data",
          "data": {
            "text/plain": [
              "<Figure size 1500x1500 with 0 Axes>"
            ]
          },
          "metadata": {}
        }
      ]
    },
    {
      "cell_type": "code",
      "source": [
        "from matplotlib.image import imread\n",
        "import cv2\n",
        "\n",
        "some_non_img = random.sample(non_can_img, len(non_can_img))\n",
        "some_can_img = random.sample(can_img, len(can_img))\n",
        "\n",
        "non_img_arr = []\n",
        "can_img_arr = []\n",
        "\n",
        "for img in some_non_img:\n",
        "\n",
        "    n_img = cv2.imread(img, cv2.IMREAD_COLOR)\n",
        "    n_img_size = cv2.resize(n_img, (50, 50), interpolation = cv2.INTER_LINEAR)\n",
        "    non_img_arr.append([n_img_size, 0])\n",
        "\n",
        "for img in some_can_img:\n",
        "\n",
        "    c_img = cv2.imread(img, cv2.IMREAD_COLOR)\n",
        "    c_img_size = cv2.resize(c_img, (50, 50), interpolation = cv2.INTER_LINEAR)\n",
        "    can_img_arr.append([c_img_size, 1])"
      ],
      "metadata": {
        "execution": {
          "iopub.status.busy": "2023-02-22T16:28:39.827909Z",
          "iopub.execute_input": "2023-02-22T16:28:39.829013Z"
        },
        "trusted": true,
        "id": "9FXssavyT8Vr"
      },
      "execution_count": null,
      "outputs": []
    },
    {
      "cell_type": "code",
      "source": [
        "X = []\n",
        "y = []\n",
        "\n",
        "breast_img_arr = np.concatenate((non_img_arr, can_img_arr))\n",
        "random.shuffle(breast_img_arr)\n",
        "\n",
        "for feature, label in breast_img_arr:\n",
        "    X.append(feature)\n",
        "    y.append(label)\n",
        "\n",
        "X = np.array(X)\n",
        "y = np.array(y)\n",
        "\n",
        "print('X shape : {}' .format(X.shape))"
      ],
      "metadata": {
        "trusted": true,
        "id": "_AProkneT8Vr"
      },
      "execution_count": null,
      "outputs": []
    },
    {
      "cell_type": "code",
      "source": [
        "from sklearn.model_selection import train_test_split\n",
        "from keras.utils.np_utils import to_categorical\n",
        "\n",
        "X_train, X_test, y_train, y_test = train_test_split(X, y, test_size = 0.25, random_state = 42)\n",
        "\n",
        "rate = 0.5\n",
        "num = int(X.shape[0] * rate)\n",
        "\n",
        "y_train = to_categorical(y_train, 2)\n",
        "y_test = to_categorical(y_test, 2)\n",
        "\n",
        "\n",
        "print('X_train shape : {}' .format(X_train.shape))\n",
        "print('X_test shape : {}' .format(X_test.shape))\n",
        "print('y_train shape : {}' .format(y_train.shape))\n",
        "print('y_test shape : {}' .format(y_test.shape))"
      ],
      "metadata": {
        "trusted": true,
        "id": "uj5lsPH4T8Vr"
      },
      "execution_count": null,
      "outputs": []
    },
    {
      "cell_type": "markdown",
      "source": [
        "## Model Selection"
      ],
      "metadata": {
        "id": "BUOTwB0iVT4I"
      }
    },
    {
      "cell_type": "code",
      "source": [
        "import tensorflow as tf\n",
        "tf.random.set_seed(100)"
      ],
      "metadata": {
        "execution": {
          "iopub.status.busy": "2022-12-26T03:27:10.839054Z",
          "iopub.execute_input": "2022-12-26T03:27:10.839362Z",
          "iopub.status.idle": "2022-12-26T03:27:10.845482Z",
          "shell.execute_reply.started": "2022-12-26T03:27:10.839334Z",
          "shell.execute_reply": "2022-12-26T03:27:10.844341Z"
        },
        "trusted": true,
        "id": "hp5iutBFT8Vr"
      },
      "execution_count": null,
      "outputs": []
    },
    {
      "cell_type": "code",
      "source": [
        "model = tf.keras.Sequential([\n",
        "tf.keras.layers.Conv2D(32, (3, 3), padding = 'same', activation = 'relu', input_shape = (50, 50, 3)),\n",
        "tf.keras.layers.MaxPooling2D(strides = 2),\n",
        "tf.keras.layers.Conv2D(64, (3, 3), padding = 'same', activation = 'relu'),\n",
        "tf.keras.layers.MaxPooling2D((3, 3),strides = 2),\n",
        "tf.keras.layers.Conv2D(128, (3, 3), padding = 'same', activation = 'relu'),\n",
        "tf.keras.layers.MaxPooling2D((3, 3),strides =2),\n",
        "tf.keras.layers.Conv2D(128, (3, 3), padding = 'same', activation = 'relu'),\n",
        "tf.keras.layers.MaxPooling2D((3, 3),strides =2),\n",
        "tf.keras.layers.Flatten(),\n",
        "tf.keras.layers.Dense(128, activation = 'relu'),\n",
        "tf.keras.layers.Dense(2, activation = 'softmax'),\n",
        "])"
      ],
      "metadata": {
        "execution": {
          "iopub.status.busy": "2022-12-26T03:27:10.847177Z",
          "iopub.execute_input": "2022-12-26T03:27:10.847573Z",
          "iopub.status.idle": "2022-12-26T03:27:10.935065Z",
          "shell.execute_reply.started": "2022-12-26T03:27:10.847532Z",
          "shell.execute_reply": "2022-12-26T03:27:10.933803Z"
        },
        "trusted": true,
        "id": "urdagOMAT8Vr"
      },
      "execution_count": null,
      "outputs": []
    },
    {
      "cell_type": "code",
      "source": [
        "model.summary()"
      ],
      "metadata": {
        "execution": {
          "iopub.status.busy": "2022-12-26T03:27:10.936511Z",
          "iopub.execute_input": "2022-12-26T03:27:10.936952Z",
          "iopub.status.idle": "2022-12-26T03:27:10.943666Z",
          "shell.execute_reply.started": "2022-12-26T03:27:10.936907Z",
          "shell.execute_reply": "2022-12-26T03:27:10.942493Z"
        },
        "trusted": true,
        "id": "jJdwdpdpT8Vs"
      },
      "execution_count": null,
      "outputs": []
    },
    {
      "cell_type": "code",
      "source": [
        "model.compile(optimizer=tf.keras.optimizers.Adam(learning_rate=0.001),loss='binary_crossentropy',metrics=['accuracy'])"
      ],
      "metadata": {
        "execution": {
          "iopub.status.busy": "2022-12-26T03:27:10.94489Z",
          "iopub.execute_input": "2022-12-26T03:27:10.946214Z",
          "iopub.status.idle": "2022-12-26T03:27:10.96069Z",
          "shell.execute_reply.started": "2022-12-26T03:27:10.946164Z",
          "shell.execute_reply": "2022-12-26T03:27:10.959329Z"
        },
        "trusted": true,
        "id": "SN1Q9YNST8Vs"
      },
      "execution_count": null,
      "outputs": []
    },
    {
      "cell_type": "code",
      "source": [
        "history = model.fit(X_train, y_train, validation_data = (X_test, y_test), epochs = 25 , batch_size = 75)"
      ],
      "metadata": {
        "execution": {
          "iopub.status.busy": "2022-12-26T03:27:10.962357Z",
          "iopub.execute_input": "2022-12-26T03:27:10.963483Z"
        },
        "trusted": true,
        "id": "zzqgxC08T8Vs"
      },
      "execution_count": null,
      "outputs": []
    },
    {
      "cell_type": "markdown",
      "source": [
        "## Model Evaluation"
      ],
      "metadata": {
        "id": "8c0CZJw7VhYK"
      }
    },
    {
      "cell_type": "code",
      "source": [
        "model.evaluate(X_test,y_test)"
      ],
      "metadata": {
        "trusted": true,
        "id": "uFpUzkbrT8Vs"
      },
      "execution_count": null,
      "outputs": []
    },
    {
      "cell_type": "code",
      "source": [
        "from sklearn.metrics import confusion_matrix\n",
        "Y_pred = model.predict(X_test)\n",
        "Y_pred_classes = np.argmax(Y_pred,axis = 1)\n",
        "Y_true = np.argmax(y_test,axis = 1)\n",
        "\n",
        "confusion_mtx = confusion_matrix(Y_true, Y_pred_classes)\n",
        "f,ax = plt.subplots(figsize=(8, 8))\n",
        "sns.heatmap(confusion_mtx, annot=True, linewidths=0.01,cmap=\"BuPu\",linecolor=\"gray\", fmt= '.1f',ax=ax)\n",
        "plt.xlabel(\"Predicted Label\")\n",
        "plt.ylabel(\"True Label\")\n",
        "plt.title(\"Confusion Matrix\")\n",
        "plt.show()"
      ],
      "metadata": {
        "trusted": true,
        "id": "v9WyPurXT8Vs"
      },
      "execution_count": null,
      "outputs": []
    },
    {
      "cell_type": "code",
      "source": [
        "plt.plot(history.history['accuracy'])\n",
        "plt.plot(history.history['val_accuracy'])\n",
        "plt.title('Model Accuracy')\n",
        "plt.ylabel('accuracy')\n",
        "plt.xlabel('epoch')\n",
        "plt.legend(['train', 'test'], loc='upper left')\n",
        "plt.show()"
      ],
      "metadata": {
        "trusted": true,
        "id": "OKYd5X2NT8Vs"
      },
      "execution_count": null,
      "outputs": []
    },
    {
      "cell_type": "code",
      "source": [
        "plt.plot(history.history['loss'])\n",
        "plt.plot(history.history['val_loss'])\n",
        "plt.title('Model Loss')\n",
        "plt.ylabel('loss')\n",
        "plt.xlabel('epoch')\n",
        "plt.legend(['train', 'test'], loc='upper left')\n",
        "plt.show()"
      ],
      "metadata": {
        "trusted": true,
        "id": "ui_Q7cjzT8Vs"
      },
      "execution_count": null,
      "outputs": []
    },
    {
      "cell_type": "code",
      "source": [
        "prediction = model.predict(X_test)\n",
        "prediction"
      ],
      "metadata": {
        "trusted": true,
        "id": "L9luEDRxT8Vs"
      },
      "execution_count": null,
      "outputs": []
    },
    {
      "cell_type": "code",
      "source": [
        "def img_plot(arr,index=0):\n",
        "    plt.title('Test Image')\n",
        "    plt.imshow(arr[index])"
      ],
      "metadata": {
        "trusted": true,
        "id": "SMVimb0RT8Vs"
      },
      "execution_count": null,
      "outputs": []
    },
    {
      "cell_type": "code",
      "source": [
        "index = 90\n",
        "img_plot(X_test, index)"
      ],
      "metadata": {
        "trusted": true,
        "id": "KXHsyMstT8Vt"
      },
      "execution_count": null,
      "outputs": []
    },
    {
      "cell_type": "code",
      "source": [
        "input = X_test[index:index+1]"
      ],
      "metadata": {
        "trusted": true,
        "id": "qoOdlAvUT8Vt"
      },
      "execution_count": null,
      "outputs": []
    },
    {
      "cell_type": "code",
      "source": [
        "pred = model.predict(input)[0].argmax()\n",
        "label = y_test[index].argmax()"
      ],
      "metadata": {
        "trusted": true,
        "id": "ptg4tx2iT8Vt"
      },
      "execution_count": null,
      "outputs": []
    },
    {
      "cell_type": "code",
      "source": [
        "print('Predicted Value using  cnn model',pred)\n",
        "print(\"True Value\",label)"
      ],
      "metadata": {
        "trusted": true,
        "id": "0ozE9LCnT8Vt"
      },
      "execution_count": null,
      "outputs": []
    }
  ]
}